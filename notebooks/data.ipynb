{
 "cells": [
  {
   "cell_type": "code",
   "execution_count": 97,
   "id": "4103c37a",
   "metadata": {},
   "outputs": [
    {
     "name": "stdout",
     "output_type": "stream",
     "text": [
      "The autoreload extension is already loaded. To reload it, use:\n",
      "  %reload_ext autoreload\n"
     ]
    }
   ],
   "source": [
    "\n",
    "%load_ext autoreload\n",
    "%autoreload 2\n",
    "\n",
    "import os\n",
    "from glob import glob\n",
    "import shutil\n",
    "\n",
    "import matplotlib.pyplot as plt\n",
    "import numpy as np\n",
    "import pandas as pd\n",
    "import polars as pl\n",
    "from fastparquet import ParquetFile\n",
    "from natsort import natsorted\n",
    "from pickle_blosc import unpickle\n",
    "from scipy.signal import correlate, correlation_lags\n",
    "from scipy.stats import pearsonr\n",
    "from tqdm import tqdm\n",
    "\n",
    "from seisnet.dataloaders import (CorrelationTable, Normalize,\n",
    "                                 create_local_session)\n",
    "from seisnet.utils import (get_data_dir, get_repo_dir,\n",
    "                           load_picks_without_ridgecrest)"
   ]
  },
  {
   "cell_type": "code",
   "execution_count": 47,
   "id": "a5305bb0",
   "metadata": {},
   "outputs": [],
   "source": [
    "# data = load_picks_without_ridgecrest(f\"{get_data_dir()}/metadata/picks.csv\")\n",
    "data = pd.read_csv(f\"{get_data_dir()}/AML/hawaii_arrivals.csv\")"
   ]
  },
  {
   "cell_type": "code",
   "execution_count": 35,
   "id": "8c4b6df3",
   "metadata": {},
   "outputs": [
    {
     "data": {
      "image/png": "[encoded data removed]",
      "text/plain": [
       "<Figure size 800x200 with 2 Axes>"
      ]
     },
     "metadata": {},
     "output_type": "display_data"
    }
   ],
   "source": [
    "# hawaii_picks_df[hawaii_picks_df.evid==42901086]\n",
    "file = np.load(f\"{get_data_dir()}/train_npz/nc106586--PG.AR..EH.npz\")\n",
    "# np.where(file[\"evids\"]==42920779)\n",
    "fig,ax = plt.subplots(figsize=(8,2))\n",
    "ax.plot(file[\"X\"].T,c=\"k\",lw=0.8,alpha=0.6)\n",
    "ax.margins(x=0.01)\n",
    "ax.set_yticks([])\n",
    "ax = ax.twinx()\n",
    "ax.plot(file[\"y\"].T)\n",
    "# plt.xlim(2500,3500)\n",
    "# plt.axvline(2995, ls=\"--\")\n",
    "# plt.axvline(3000)\n",
    "plt.show()"
   ]
  },
  {
   "cell_type": "code",
   "execution_count": 54,
   "id": "93474dc6",
   "metadata": {},
   "outputs": [
    {
     "data": {
      "text/plain": [
       "array([[ 0.        ,  0.        ,  0.        , ...,  0.01737251,\n",
       "         0.01536129,  0.01435568],\n",
       "       [ 0.        ,  0.        ,  0.        , ..., -0.0285698 ,\n",
       "        -0.02253614, -0.01449125],\n",
       "       [ 0.        ,  0.        ,  0.        , ...,  0.046275  ,\n",
       "         0.04426378,  0.046275  ]], shape=(3, 6000), dtype=float32)"
      ]
     },
     "execution_count": 54,
     "metadata": {},
     "output_type": "execute_result"
    }
   ],
   "source": [
    "file[\"X\"]"
   ]
  },
  {
   "cell_type": "code",
   "execution_count": 3,
   "id": "d9e1d8df",
   "metadata": {},
   "outputs": [],
   "source": [
    "files = pl.read_parquet(f\"{get_repo_dir()}/grp_wvfms.parquet\")"
   ]
  },
  {
   "cell_type": "code",
   "execution_count": 7,
   "id": "37777bd6",
   "metadata": {},
   "outputs": [],
   "source": [
    "classes = files[\"labels\"].n_unique()"
   ]
  },
  {
   "cell_type": "code",
   "execution_count": null,
   "id": "1d3a89ec",
   "metadata": {},
   "outputs": [
    {
     "data": {
      "text/plain": [
       "'/Users/josesomojola/Data/train_npz/nc71593200--NC.MMX1..HN.npz'"
      ]
     },
     "execution_count": 42,
     "metadata": {},
     "output_type": "execute_result"
    }
   ],
   "source": [
    "prefix = f\"{get_data_dir()}/train_npz/\"\n",
    "\n",
    "files.with_columns(\n",
    "    (prefix + pl.col(\"waveform_name\") + \".npz\").alias(\"waveform_name\")\n",
    ")\n"
   ]
  },
  {
   "cell_type": "code",
   "execution_count": 2,
   "id": "1ef85fe1",
   "metadata": {},
   "outputs": [],
   "source": [
    "ff = np.load(f\"{get_repo_dir()}/large_file.npz\", mmap_mode='r')"
   ]
  },
  {
   "cell_type": "code",
   "execution_count": 3,
   "id": "affb87af",
   "metadata": {},
   "outputs": [],
   "source": [
    "import mlflow\n",
    "from mlflow.tracking import MlflowClient\n",
    "from seisnet.utils import get_repo_dir"
   ]
  },
  {
   "cell_type": "code",
   "execution_count": 22,
   "id": "c00e2d79",
   "metadata": {},
   "outputs": [],
   "source": [
    "mlflow.set_tracking_uri(f\"{get_repo_dir()}/mlruns\") # Define the root mlruns directory\n",
    "client = MlflowClient()\n",
    "exp = client.get_experiment_by_name(\"Phasenet-Pytorch-Sparse-Waveform-Experiment\")#Sparse #Random\n",
    "exp_id = exp.experiment_id"
   ]
  },
  {
   "cell_type": "code",
   "execution_count": 23,
   "id": "05b237ef",
   "metadata": {},
   "outputs": [
    {
     "name": "stdout",
     "output_type": "stream",
     "text": [
      "34\n",
      "29\n"
     ]
    }
   ],
   "source": [
    "runs = mlflow.search_runs(experiment_ids=[exp_id])\n",
    "\n",
    "# select_uuids = [\"e4481a9e\",\"fcb9e4f2\",\"a28b4265\",\"e36acf99\",\"86c6e42c\",\"dce4c12d\",\n",
    "#                 \"6befda52\",\"0bd16fde\",\"79c5e22e\",\"4ff360e0\",\"95ed0d91\",]\n",
    "select_uuids = [\"e01718b8\",\"2eab6925\",\"59c68b09\",\"1fce8587\",\"0eb8c708\",]\n",
    "print(len(runs))\n",
    "runs = runs[~runs[\"params.model_uuid\"].isin(select_uuids)].reset_index(drop=True)\n",
    "print(len(runs))"
   ]
  },
  {
   "cell_type": "code",
   "execution_count": 85,
   "id": "8d0b9bbb",
   "metadata": {},
   "outputs": [],
   "source": [
    "files = glob(f\"{get_data_dir()}/test_ridgecrest/*.npz\")"
   ]
  },
  {
   "cell_type": "code",
   "execution_count": 95,
   "id": "9a118b80",
   "metadata": {},
   "outputs": [
    {
     "data": {
      "image/png": "[encoded data removed]",
      "text/plain": [
       "<Figure size 800x200 with 1 Axes>"
      ]
     },
     "metadata": {},
     "output_type": "display_data"
    }
   ],
   "source": [
    "\n",
    "file = np.load(files[8], allow_pickle=True)\n",
    "fig,ax = plt.subplots(figsize=(8,2))\n",
    "ax.plot(file[\"X\"].T,c=\"k\",lw=0.8,alpha=0.6)\n",
    "ax.margins(x=0.01)\n",
    "ax.set_yticks([]), ax.axis(\"off\")\n",
    "# ax = ax.twinx()\n",
    "# ax.plot(file[\"y\"].T)\n",
    "plt.show()"
   ]
  },
  {
   "cell_type": "code",
   "execution_count": null,
   "id": "054cc386",
   "metadata": {},
   "outputs": [],
   "source": []
  },
  {
   "cell_type": "code",
   "execution_count": 74,
   "id": "a3aa6492",
   "metadata": {},
   "outputs": [],
   "source": [
    "file = np.load(f\"{get_data_dir()}/large_files/ridgecrest_file.npz\",allow_pickle=True)"
   ]
  },
  {
   "cell_type": "code",
   "execution_count": 67,
   "id": "b18c996d",
   "metadata": {},
   "outputs": [
    {
     "data": {
      "text/plain": [
       "KeysView(NpzFile '/Users/josesomojola/Data/ridgecrest_file.npz' with keys: X, y, pIdx, sIdx)"
      ]
     },
     "execution_count": 67,
     "metadata": {},
     "output_type": "execute_result"
    }
   ],
   "source": [
    "file.keys()"
   ]
  },
  {
   "cell_type": "code",
   "execution_count": 76,
   "id": "1a26cd1f",
   "metadata": {},
   "outputs": [
    {
     "ename": "AttributeError",
     "evalue": "'numpy.ndarray' object has no attribute 'replace'",
     "output_type": "error",
     "traceback": [
      "\u001b[31m---------------------------------------------------------------------------\u001b[39m",
      "\u001b[31mAttributeError\u001b[39m                            Traceback (most recent call last)",
      "\u001b[36mCell\u001b[39m\u001b[36m \u001b[39m\u001b[32mIn[76]\u001b[39m\u001b[32m, line 1\u001b[39m\n\u001b[32m----> \u001b[39m\u001b[32m1\u001b[39m \u001b[43mfile\u001b[49m\u001b[43m[\u001b[49m\u001b[33;43m\"\u001b[39;49m\u001b[33;43msIdx\u001b[39;49m\u001b[33;43m\"\u001b[39;49m\u001b[43m]\u001b[49m\u001b[43m.\u001b[49m\u001b[43mreplace\u001b[49m(\u001b[38;5;28;01mNone\u001b[39;00m,np.nan)\n",
      "\u001b[31mAttributeError\u001b[39m: 'numpy.ndarray' object has no attribute 'replace'"
     ]
    }
   ],
   "source": [
    "np.where(file[\"sIdx\"]).replace(None,np.nan)"
   ]
  },
  {
   "cell_type": "code",
   "execution_count": 80,
   "id": "b023f9bf",
   "metadata": {},
   "outputs": [
    {
     "data": {
      "text/plain": [
       "(array([1446.,   nan, 1583., ..., 2568.,   nan,   nan],\n",
       "       shape=(174491,), dtype=float32),\n",
       " array([ 921, 2495, 1343, ..., 2446, 2269,  697], shape=(174491,)))"
      ]
     },
     "execution_count": 80,
     "metadata": {},
     "output_type": "execute_result"
    }
   ],
   "source": [
    "sidx_clean,file[\"pIdx\"]"
   ]
  },
  {
   "cell_type": "code",
   "execution_count": 78,
   "id": "9213bb78",
   "metadata": {},
   "outputs": [],
   "source": [
    "sidx_clean = np.where(file[\"sIdx\"] == None, np.nan, file[\"sIdx\"]).astype(np.float32)"
   ]
  },
  {
   "cell_type": "code",
   "execution_count": 81,
   "id": "f1fe6518",
   "metadata": {},
   "outputs": [
    {
     "data": {
      "text/plain": [
       "246.36"
      ]
     },
     "execution_count": 81,
     "metadata": {},
     "output_type": "execute_result"
    }
   ],
   "source": [
    "53.33+12.57+0.46+2.8+12.86+1.82+162.52"
   ]
  },
  {
   "cell_type": "code",
   "execution_count": 82,
   "id": "55b2c0ae",
   "metadata": {},
   "outputs": [],
   "source": [
    "file = np.load(f\"{get_data_dir()}/large_files/ridgecrest_file.npz\",allow_pickle=True,mmap_mode=\"r\")"
   ]
  },
  {
   "cell_type": "code",
   "execution_count": 84,
   "id": "3b8de930",
   "metadata": {},
   "outputs": [
    {
     "data": {
      "text/plain": [
       "(174491, 3, 3000)"
      ]
     },
     "execution_count": 84,
     "metadata": {},
     "output_type": "execute_result"
    }
   ],
   "source": [
    "file[\"X\"].shape"
   ]
  },
  {
   "cell_type": "code",
   "execution_count": null,
   "id": "d74f3a37",
   "metadata": {},
   "outputs": [],
   "source": [
    "tups = [(\"602bb8b0bdd84e868789a962113c7729\",\"8c69c464\"),\n",
    "        (\"4fb65866bcc54b59bbd44faa1ea0ea87\",\"f8b6fc3a\"),\n",
    "        (\"2d2b7a0c2e324ebb8455da214292ce71\",\"c6d4d288\"),\n",
    "        (\"68a21a1eab8f4b5294d19c6b91c4c602\",\"79cb833e\"),\n",
    "        (\"6ecfc7e2c4c846fea9e0043fd7f679c9\",\"1a26b974\"),\n",
    "        (\"fb5288e4aec54e14b27b2e693780b315\",\"42e9afab\"),\n",
    "        (\"338f837749ea4669a5033a51d6d58abd\",\"d0da20ec\"),\n",
    "        (\"ec339407044a444daccec1d745cd1967\",\"486eabf6\"),\n",
    "        (\"bd4b1cc57acc40caa2e9f2b7c020638e\",\"e6abe84b\"),\n",
    "        (\"94b3d394564f45a1a6512d0f1d0d42b8\",\"d6a3a1c7\"),\n",
    "        (\"26009589a3b24f1880d57d62517d34fd\",\"1bde61cc\"),\n",
    "        (\"b6431cf431534e3eacaf341de98f5a37\",\"25da2d9d\"),\n",
    "        (\"a46353abd5d449ef8e0baa3a0cf4d14d\",\"6f81c36c\"),\n",
    "        (\"5fe8f9e5df2b45e8a1b750c0e6fb7298\",\"1d43520b\"),\n",
    "        (\"1f54d616dd5a45629d00f8570df36b74\",\"f328009b\"),\n",
    "        (\"46c76145013f4523ac78a30f91cbbd58\",\"9bb9d447\"),\n",
    "        (\"0b74a6b5e2f94759a9a781ac53f84147\",\"c1f19962\"),\n",
    "        (\"8d7f06e0dd5d4541bf69d49d6dd46f00\",\"082e9f5a\"),\n",
    "        (\"0511ff9db13d4f53a8f60f9f434d5b3e\",\"b68dc10a\"),\n",
    "        (\"c305f8cb59f448a8a5f77521674afcec\",\"6c61c433\"),\n",
    "        (\"16d6b18e30824246bf1632be81bee30c\",\"28da5211\"),\n",
    "        (\"fa14d07bd9d54357a77793a4d4f6f83c\",\"c6682d15\"),\n",
    "        (\"6b3f8f22711548e8bdf3f9272e67d29c\",\"5b41d5a6\"),\n",
    "        (\"dc6ebbc0f48149f3bab9c0143ea11602\",\"41842cba\"),\n",
    "        (\"23a129c647e14b6187063852174b7bc9\",\"b8c724b3\"),\n",
    "        (\"320b66bbe2b14e14a7273ffc6dc08600\",\"9eec2245\"),\n",
    "        (\"648d930ff0db40efbe90c974b5d18d31\",\"f1408192\"),\n",
    "        (\"ca5c8015848343408027ca90e27eee27\",\"3c90e5b9\"),\n",
    "        (\"329579f4e79a4df0b08251181c056ff4\",\"0110818c\"),\n",
    "        (\"614b65fe729b432f9cd609b587c3ba3d\",\"3b72ecff\"),\n",
    "        (\"9d2af3dad90d41bcaee73acfe0fa3418\",\"4da32722\"),\n",
    "        (\"2490c96489d747c3a0921db6d1ce3c62\",\"fd03c220\"),\n",
    "        (\"5532cd54c448444e8cce7e52e0b6c55e\",\"280db935\"),\n",
    "        (\"396d9fcd5d8e4aa3b42c02bcbcf73cb6\",\"f3429f70\"),\n",
    "        (\"6715483861a64d44a4deae28f7e6e193\",\"5cefe561\"),\n",
    "        (\"52a227aaab9e4683bfeab32e20926c1d\",\"372c313b\"),\n",
    "        (\"e97c9a6d687540789d08d8c475ca1018\",\"7ad7d288\"),\n",
    "        (\"ddb5e2723a014ca3915ba644c15af65f\",\"86ae722b\"),\n",
    "        (\"731c6458ce9b4876965da5d9ebdf984c\",\"fa3338b2\"),\n",
    "        (\"993230c23edf44838119e9026484ce0f\",\"21dbfb7b\"),\n",
    "        (\"5c8b54f9683547b0890c0fbf64bdfe53\",\"b1939e69\"),\n",
    "        (\"195a0ab55e25430091f4f8bf63727820\",\"151e9e24\"),\n",
    "        (\"159d400b29254650ab0c395e0a986cbe\",\"3c79a11b\"),\n",
    "        (\"6408df90c6db4bafb41dfbc4e9f91a70\",\"ebf5051a\"),\n",
    "        (\"20afc7b9f34041abb13799c184842cf0\",\"748ca054\"),\n",
    "        (\"d3d16ecbcabe449e9cf087fbef4666b8\",\"62a272eb\"),\n",
    "        (\"0d659052362e4d0eb3e429f39a351541\",\"2297cd26\"),\n",
    "        (\"8641331812454265882852b2ab09521a\",\"2f32e6dd\"),\n",
    "        (\"a9b28eb6fee245019f3b2e6eac78d361\",\"86dc813a\"),\n",
    "        (\"2cf9c6fa9a7d4217a1ad57a682e6136e\",\"39c1b808\"),\n",
    "        (\"373330e369db4dbdac0acefcc768ef29\",\"16f496fd\"),\n",
    "        (\"a32458afd6e94fc7833be6e4389c44b7\",\"69e0758e\"),\n",
    "        (\"5d9baff35d964876844379e3ef8f184c\",\"8160a4e8\"),\n",
    "        (\"a70d0a5a6777490b854e23002372ccca\",\"a1936513\"),\n",
    "        (\"9e821290b20f49f08e61b76fb03ae198\",\"a1e83c54\"),\n",
    "        (\"632a5f3e62f64f3c9c64e5ed6e00102e\",\"ce555b66\"),\n",
    "        (\"5dafdbfb9c2143c5826c509e37cd28a1\",\"30eb7c99\"),\n",
    "        (\"31ae73e3116b4e0cb5d82ac60c9abbaa\",\"393e133d\"),\n",
    "        (\"a4c3f7013fc845e5a09bfef43510d687\",\"c11baca9\"),\n",
    "        (\"23a2a2f6504a463f91dc9ff6df520527\",\"c4769f2d\"),\n",
    "        (\"98344abf832c451cac1127b55f86dffa\",\"fc2682eb\"),\n",
    "        (\"af1f860385394367a69c9a714806ec44\",\"3123b4c2\"),\n",
    "        (\"a80787580d3f40739869a22b19b16185\",\"a99a1bd0\"),\n",
    "        (\"d051f5b7ff5b4c919aa33c1ee0efe587\",\"d1e5106d\"),\n",
    "        (\"5d9a47ff12794d58bd662a82bff6bbb5\",\"142915f1\"),\n",
    "        (\"47645ca7cb0d4364a6d1b371cf939b62\",\"5b471ee9\"),\n",
    "        (\"0887faeb8f8b44299381566b5f7925fc\",\"7e16c500\"),\n",
    "        (\"0d1594d2f09947768897c6c875a19029\",\"09fab0b7\"),\n",
    "        (\"2d5796e2c057474c95aa25b01a4ab38d\",\"825c1cc0\"),\n",
    "        (\"3d4d3bfc9a0b494aab0c74d6c5437da9\",\"85ba1367\"),\n",
    "        (\"e80a906e9c284d14b4b78c28ffea7546\",\"2d4cbcf1\"),\n",
    "        (\"457c0355faaf48d5ae052d382277ca78\",\"30040981\"),\n",
    "        (\"a3e04e6e0f8d4140a64937a4173eacf9\",\"a27d5e9f\"),\n",
    "        (\"549234c73ae747129eaa72162dd9b972\",\"f5876c9a\"),\n",
    "        (\"26109527e52a40fe845b83fd6d97e69a\",\"bc52fd3e\"),\n",
    "        (\"66243af0219c4058ba727fc3a44caf2b\",\"3b797e2c\"),\n",
    "        (\"66718d6f08794c739abfc53163dfd013\",\"d883ce10\"),\n",
    "        (\"58aa7f9b91444a2ba4fdc3b71bf231cf\",\"fbb5caa3\"),\n",
    "        (\"d30912513e1b4592a70930db30a81a74\",\"fc98d1ac\"),\n",
    "        (\"98b0ce71fb634be99d230fd00643985c\",\"10907efd\"),\n",
    "        (\"b3c99d423af34582938809c7233b4e06\",\"8dcc32b3\"),\n",
    "        (\"52b216368f864601ad622068105b0efd\",\"ae558cdd\"),\n",
    "        (\"b39dfb8d24364191a24d8d48ecc273fa\",\"a239dbde\"),\n",
    "        (\"871777db2e454e8189d7d8fe784a2c2c\",\"83b2efae\"),\n",
    "        (\"2daea68da7da4f0c8d1e3b18edeeb2e2\",\"eeeb36a9\"),\n",
    "        (\"2f6e6b35fcbc42b7b874e12ab35effe5\",\"df08b653\"),\n",
    "        (\"71ce4f7e623d48cf85f8b5a1ed766063\",\"36e01cec\"),\n",
    "        (\"8be32e9b22544ef285319f40a91381f4\",\"3d3d4115\"),\n",
    "        (\"80b4a0c5383f43eaafdc3d6c7572b5a9\",\"34b097f4\"),\n",
    "        (\"fff0b4a4e5794edeaa4dac9b7db0ffd4\",\"75095f52\"),\n",
    "        (\"96ac0e19f5f6446789810206d9eeadb8\",\"24c08233\"),\n",
    "        (\"d838733445544c349106544183c3266b\",\"d42f3c28\"),\n",
    "        (\"e3b2139e1e354d7a9aadf27e443d3544\",\"4998fc8d\"),\n",
    "        (\"3bbea446a03f44df979d9a6b814649e5\",\"6a6850f6\"),\n",
    "        (\"1752c787c5cb4e5182a43f098884445c\",\"574d30d7\"),\n",
    "        (\"677e081ce76644e2b9b58542104ded5d\",\"6056534c\"),\n",
    "        (\"535ac2af89144698bc0ec07ca49582b5\",\"9fd68e06\"),\n",
    "        (\"2bda6bd0dc5f4297a31034f5f49624d9\",\"16950700\"),\n",
    "        (\"71771aa3048b46fbb8a70091c5c5926c\",\"e65ce341\"),\n",
    "        (\"d995928741a341639d31bb3a5a4a9009\",\"cc2f400d\"),\n",
    "        (\"2710ad5239584e0a915ea9111850357c\",\"3d56bd2d\"),\n",
    "        (\"8482003ac4dd4c86b785a83485e45d4e\",\"fc3e3920\"),\n",
    "        (\"3e03f465b79840dd90a776ac66d88a12\",\"40759172\"),\n",
    "        (\"431fe66410aa412d8e52a26bb15e02cf\",\"5ff016d3\"),\n",
    "        (\"144b447e716548b2bd71a96180e2215a\",\"55d9d7e0\"),\n",
    "        (\"93a19c077a4346429e3c36de4bc10949\",\"ac78132f\"),\n",
    "        (\"6cd6a0c95afb4347b55c0d3046cbdf4c\",\"71237bb3\"),\n",
    "        (\"c1c2de6d9dbf474d86692a0be68f68a7\",\"0878d1ab\"),\n",
    "        (\"5f50597a11584d4789fcf2667e1e771a\",\"b2dda203\"),\n",
    "        (\"2cc9c5aa6ad54dc2a4dd56ab4a730fc2\",\"61b066f4\"),\n",
    "        (\"223ed84c32804921ae311f8a3c99ff17\",\"74beb110\"),\n",
    "        (\"1c183173ad5446b6b49a09247418a828\",\"0e2ba3e4\"),\n",
    "        (\"00324e26b254483fb1e7a7491c405ed7\",\"bc63a05c\"),\n",
    "        (\"ebd7c5e9a19645bda75dc2d23fd80288\",\"9f913164\"),\n",
    "        (\"e45d019d00a04ff2815ecbee3ef5dd67\",\"89df7254\"),\n",
    "        (\"bb5821a62ca54b79944126f0440019d6\",\"24347cac\"),\n",
    "        (\"cf69139c18324d3c98cc0838d30f02f7\",\"41b9ebb4\"),\n",
    "        (\"369b9e2d957c4ed5bdd72348d8aee762\",\"35eae2de\"),\n",
    "        (\"edba2aadbb354952bbadadc63e7925b3\",\"82d9f461\")\n",
    "]\n",
    "\n",
    "for tup in tups:\n",
    "    rid,mid = tup\n",
    "    print(f\"poetry run evaluate_model -mid {mid} -rid {rid} -ncls 1 -r\")#"
   ]
  },
  {
   "cell_type": "code",
   "execution_count": null,
   "id": "afc7be94",
   "metadata": {},
   "outputs": [],
   "source": [
    "# import mlflow\n",
    "# from mlflow.tracking import MlflowClient\n",
    "\n",
    "# mlflow.set_tracking_uri(f\"{get_repo_dir()}/mlruns\") # Define the root mlruns directory\n",
    "client = MlflowClient()\n",
    "\n",
    "exp = client.get_experiment_by_name(\"Phasenet-Pytorch-Random-Waveform-Experiment\")#\n",
    "exp_id = exp.experiment_id\n",
    "runs = mlflow.search_runs(experiment_ids=[exp_id])\n",
    "\n",
    "rids = [\"602bb8b0bdd84e868789a962113c7729\",\"4fb65866bcc54b59bbd44faa1ea0ea87\",\"2d2b7a0c2e324ebb8455da214292ce71\",\"68a21a1eab8f4b5294d19c6b91c4c602\",\"6ecfc7e2c4c846fea9e0043fd7f679c9\",\"fb5288e4aec54e14b27b2e693780b315\",\"338f837749ea4669a5033a51d6d58abd\",\"ec339407044a444daccec1d745cd1967\",\"bd4b1cc57acc40caa2e9f2b7c020638e\",\"94b3d394564f45a1a6512d0f1d0d42b8\",\"26009589a3b24f1880d57d62517d34fd\",\"b6431cf431534e3eacaf341de98f5a37\",\"a46353abd5d449ef8e0baa3a0cf4d14d\",\"5fe8f9e5df2b45e8a1b750c0e6fb7298\",\"1f54d616dd5a45629d00f8570df36b74\",\"46c76145013f4523ac78a30f91cbbd58\",\"0b74a6b5e2f94759a9a781ac53f84147\",\"8d7f06e0dd5d4541bf69d49d6dd46f00\",\"0511ff9db13d4f53a8f60f9f434d5b3e\",\"c305f8cb59f448a8a5f77521674afcec\",\"16d6b18e30824246bf1632be81bee30c\",\"fa14d07bd9d54357a77793a4d4f6f83c\",\"6b3f8f22711548e8bdf3f9272e67d29c\",\"dc6ebbc0f48149f3bab9c0143ea11602\",\"23a129c647e14b6187063852174b7bc9\",\"320b66bbe2b14e14a7273ffc6dc08600\",\"648d930ff0db40efbe90c974b5d18d31\",\"ca5c8015848343408027ca90e27eee27\",\"329579f4e79a4df0b08251181c056ff4\",\"614b65fe729b432f9cd609b587c3ba3d\",\"9d2af3dad90d41bcaee73acfe0fa3418\",\"2490c96489d747c3a0921db6d1ce3c62\",\"5532cd54c448444e8cce7e52e0b6c55e\",\"396d9fcd5d8e4aa3b42c02bcbcf73cb6\",\"6715483861a64d44a4deae28f7e6e193\",\"52a227aaab9e4683bfeab32e20926c1d\",\"e97c9a6d687540789d08d8c475ca1018\",\"ddb5e2723a014ca3915ba644c15af65f\",\"731c6458ce9b4876965da5d9ebdf984c\",\"993230c23edf44838119e9026484ce0f\",\"5c8b54f9683547b0890c0fbf64bdfe53\",\"195a0ab55e25430091f4f8bf63727820\",\"159d400b29254650ab0c395e0a986cbe\",\"6408df90c6db4bafb41dfbc4e9f91a70\",\"20afc7b9f34041abb13799c184842cf0\",\"d3d16ecbcabe449e9cf087fbef4666b8\",\"0d659052362e4d0eb3e429f39a351541\",\"8641331812454265882852b2ab09521a\",\"a9b28eb6fee245019f3b2e6eac78d361\",\"2cf9c6fa9a7d4217a1ad57a682e6136e\",\"373330e369db4dbdac0acefcc768ef29\",\"a32458afd6e94fc7833be6e4389c44b7\",\"5d9baff35d964876844379e3ef8f184c\",\"a70d0a5a6777490b854e23002372ccca\",\"9e821290b20f49f08e61b76fb03ae198\",\"632a5f3e62f64f3c9c64e5ed6e00102e\",\"5dafdbfb9c2143c5826c509e37cd28a1\",\"31ae73e3116b4e0cb5d82ac60c9abbaa\",\"a4c3f7013fc845e5a09bfef43510d687\",\"23a2a2f6504a463f91dc9ff6df520527\",\"98344abf832c451cac1127b55f86dffa\",\"af1f860385394367a69c9a714806ec44\",\"a80787580d3f40739869a22b19b16185\",\"d051f5b7ff5b4c919aa33c1ee0efe587\",\"5d9a47ff12794d58bd662a82bff6bbb5\",\"47645ca7cb0d4364a6d1b371cf939b62\",\"0887faeb8f8b44299381566b5f7925fc\",\"0d1594d2f09947768897c6c875a19029\",\"2d5796e2c057474c95aa25b01a4ab38d\",\"3d4d3bfc9a0b494aab0c74d6c5437da9\",\"e80a906e9c284d14b4b78c28ffea7546\",\"457c0355faaf48d5ae052d382277ca78\",\"a3e04e6e0f8d4140a64937a4173eacf9\",\"549234c73ae747129eaa72162dd9b972\",\"26109527e52a40fe845b83fd6d97e69a\",\"66243af0219c4058ba727fc3a44caf2b\",\"66718d6f08794c739abfc53163dfd013\",\"58aa7f9b91444a2ba4fdc3b71bf231cf\",\"d30912513e1b4592a70930db30a81a74\",\"98b0ce71fb634be99d230fd00643985c\",\"b3c99d423af34582938809c7233b4e06\",\"52b216368f864601ad622068105b0efd\",\"b39dfb8d24364191a24d8d48ecc273fa\",\"871777db2e454e8189d7d8fe784a2c2c\",\"2daea68da7da4f0c8d1e3b18edeeb2e2\",\"2f6e6b35fcbc42b7b874e12ab35effe5\",\"71ce4f7e623d48cf85f8b5a1ed766063\",\"8be32e9b22544ef285319f40a91381f4\",\"80b4a0c5383f43eaafdc3d6c7572b5a9\",\"fff0b4a4e5794edeaa4dac9b7db0ffd4\",\"96ac0e19f5f6446789810206d9eeadb8\",\"d838733445544c349106544183c3266b\",\"e3b2139e1e354d7a9aadf27e443d3544\",\"3bbea446a03f44df979d9a6b814649e5\",\"1752c787c5cb4e5182a43f098884445c\",\"677e081ce76644e2b9b58542104ded5d\",\"535ac2af89144698bc0ec07ca49582b5\",\"2bda6bd0dc5f4297a31034f5f49624d9\",\"71771aa3048b46fbb8a70091c5c5926c\",\"d995928741a341639d31bb3a5a4a9009\",\"2710ad5239584e0a915ea9111850357c\",\"8482003ac4dd4c86b785a83485e45d4e\",\"3e03f465b79840dd90a776ac66d88a12\",\"431fe66410aa412d8e52a26bb15e02cf\",\"144b447e716548b2bd71a96180e2215a\",\"93a19c077a4346429e3c36de4bc10949\",\"6cd6a0c95afb4347b55c0d3046cbdf4c\",\"c1c2de6d9dbf474d86692a0be68f68a7\",\"5f50597a11584d4789fcf2667e1e771a\",\"2cc9c5aa6ad54dc2a4dd56ab4a730fc2\",\"223ed84c32804921ae311f8a3c99ff17\",\"1c183173ad5446b6b49a09247418a828\",\"00324e26b254483fb1e7a7491c405ed7\",\"ebd7c5e9a19645bda75dc2d23fd80288\",\"e45d019d00a04ff2815ecbee3ef5dd67\",\"bb5821a62ca54b79944126f0440019d6\",\"cf69139c18324d3c98cc0838d30f02f7\",\"369b9e2d957c4ed5bdd72348d8aee762\",\"edba2aadbb354952bbadadc63e7925b3\",]\n",
    "runs = runs[runs[\"run_id\"].isin(rids)].reset_index(drop=True)\n",
    "\n",
    "for idx, row in runs[[\"run_id\",\"params.model_uuid\"]].iterrows():\n",
    "    print(row[\"run_id\"],row[\"params.model_uuid\"])"
   ]
  },
  {
   "cell_type": "code",
   "execution_count": 71,
   "id": "37291d86",
   "metadata": {},
   "outputs": [
    {
     "data": {
      "text/plain": [
       "['8c69c464',\n",
       " 'f8b6fc3a',\n",
       " 'c6d4d288',\n",
       " '79cb833e',\n",
       " '1a26b974',\n",
       " '42e9afab',\n",
       " 'd0da20ec',\n",
       " '486eabf6',\n",
       " 'e6abe84b',\n",
       " 'd6a3a1c7',\n",
       " '1bde61cc',\n",
       " '25da2d9d',\n",
       " '6f81c36c',\n",
       " '1d43520b',\n",
       " 'f328009b',\n",
       " '9bb9d447',\n",
       " 'c1f19962',\n",
       " '082e9f5a',\n",
       " 'b68dc10a',\n",
       " '6c61c433',\n",
       " '28da5211',\n",
       " 'c6682d15',\n",
       " '5b41d5a6',\n",
       " '41842cba',\n",
       " 'b8c724b3',\n",
       " '9eec2245',\n",
       " 'f1408192',\n",
       " '3c90e5b9',\n",
       " '0110818c',\n",
       " '3b72ecff',\n",
       " '4da32722',\n",
       " 'fd03c220',\n",
       " '280db935',\n",
       " 'f3429f70',\n",
       " '5cefe561',\n",
       " '372c313b',\n",
       " '7ad7d288',\n",
       " '86ae722b',\n",
       " 'fa3338b2',\n",
       " '21dbfb7b',\n",
       " 'b1939e69',\n",
       " '151e9e24',\n",
       " '3c79a11b',\n",
       " 'ebf5051a',\n",
       " '748ca054',\n",
       " '62a272eb',\n",
       " '2297cd26',\n",
       " '2f32e6dd',\n",
       " '86dc813a',\n",
       " '39c1b808',\n",
       " '16f496fd',\n",
       " '69e0758e',\n",
       " '8160a4e8',\n",
       " 'a1936513',\n",
       " 'a1e83c54',\n",
       " 'ce555b66',\n",
       " '30eb7c99',\n",
       " '393e133d',\n",
       " 'c11baca9',\n",
       " 'c4769f2d',\n",
       " 'fc2682eb',\n",
       " '3123b4c2',\n",
       " 'a99a1bd0',\n",
       " 'd1e5106d',\n",
       " '142915f1',\n",
       " '5b471ee9',\n",
       " '7e16c500',\n",
       " '09fab0b7',\n",
       " '825c1cc0',\n",
       " '85ba1367',\n",
       " '2d4cbcf1',\n",
       " '30040981',\n",
       " 'a27d5e9f',\n",
       " 'f5876c9a',\n",
       " 'bc52fd3e',\n",
       " '3b797e2c',\n",
       " 'd883ce10',\n",
       " 'fbb5caa3',\n",
       " 'fc98d1ac',\n",
       " '10907efd',\n",
       " '8dcc32b3',\n",
       " 'ae558cdd',\n",
       " 'a239dbde',\n",
       " '83b2efae',\n",
       " 'eeeb36a9',\n",
       " 'df08b653',\n",
       " '36e01cec',\n",
       " '3d3d4115',\n",
       " '34b097f4',\n",
       " '75095f52',\n",
       " '24c08233',\n",
       " 'd42f3c28',\n",
       " '4998fc8d',\n",
       " '6a6850f6',\n",
       " '574d30d7',\n",
       " '6056534c',\n",
       " '9fd68e06',\n",
       " '16950700',\n",
       " 'e65ce341',\n",
       " 'cc2f400d',\n",
       " '3d56bd2d',\n",
       " 'fc3e3920',\n",
       " '40759172',\n",
       " '5ff016d3',\n",
       " '55d9d7e0',\n",
       " 'ac78132f',\n",
       " '71237bb3',\n",
       " '0878d1ab',\n",
       " 'b2dda203',\n",
       " '61b066f4',\n",
       " '74beb110',\n",
       " '0e2ba3e4',\n",
       " 'bc63a05c',\n",
       " '9f913164',\n",
       " '89df7254',\n",
       " '24347cac',\n",
       " '41b9ebb4',\n",
       " '35eae2de',\n",
       " '82d9f461']"
      ]
     },
     "execution_count": 71,
     "metadata": {},
     "output_type": "execute_result"
    }
   ],
   "source": [
    "runs[\"params.model_uuid\"].to_list()"
   ]
  },
  {
   "cell_type": "code",
   "execution_count": null,
   "id": "6d16d9e8",
   "metadata": {},
   "outputs": [],
   "source": [
    "[]"
   ]
  },
  {
   "cell_type": "code",
   "execution_count": null,
   "id": "51c973b0",
   "metadata": {},
   "outputs": [],
   "source": []
  }
 ],
 "metadata": {
  "kernelspec": {
   "display_name": "seisnet-py3.13",
   "language": "python",
   "name": "python3"
  },
  "language_info": {
   "codemirror_mode": {
    "name": "ipython",
    "version": 3
   },
   "file_extension": ".py",
   "mimetype": "text/x-python",
   "name": "python",
   "nbconvert_exporter": "python",
   "pygments_lexer": "ipython3",
   "version": "3.13.1"
  }
 },
 "nbformat": 4,
 "nbformat_minor": 5
}
