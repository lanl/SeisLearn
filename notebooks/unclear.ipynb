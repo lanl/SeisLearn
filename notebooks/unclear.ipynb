{
 "cells": [
  {
   "cell_type": "code",
   "execution_count": 1,
   "id": "5b0fab08",
   "metadata": {},
   "outputs": [],
   "source": [
    "import duckdb\n",
    "import matplotlib.pyplot as plt\n",
    "import numpy as np\n",
    "import pandas as pd\n",
    "import polars as pl\n",
    "import scipy.cluster.hierarchy as sch\n",
    "import seaborn as sns\n",
    "import xarray as xr\n",
    "from fastparquet import ParquetFile\n",
    "from scipy.sparse import coo_matrix, save_npz\n",
    "from sklearn.cluster import KMeans, SpectralClustering\n",
    "from sklearn.decomposition import TruncatedSVD\n",
    "from sklearn.metrics.pairwise import cosine_similarity\n",
    "from sklearn.pipeline import make_pipeline\n",
    "from sklearn.preprocessing import StandardScaler, normalize\n",
    "\n",
    "from seisnet.dataloaders import (CorrelationTable, Normalize,\n",
    "                                 create_local_session)\n",
    "from seisnet.utils import get_data_dir, get_repo_dir"
   ]
  },
  {
   "cell_type": "code",
   "execution_count": 3,
   "id": "64b6f4d7",
   "metadata": {},
   "outputs": [],
   "source": [
    "# engine, session = create_local_session(return_engine=True)\n",
    "\n",
    "# q = \"SELECT * FROM correlations;\"\n",
    "# df = pl.read_database(q,engine)\n",
    "# df = df.rename({\"waveform_id_1\": \"source_id\", \"waveform_id_2\": \"neighbor_id\"})\n",
    "\n",
    "# corr = df[[\"source_id\",\"neighbor_id\",\"correlation\"]]\n",
    "# corr.write_parquet(f\"{get_repo_dir()}/wv_cc.parquet\",row_group_size=5_000_000)"
   ]
  },
  {
   "cell_type": "code",
   "execution_count": 4,
   "id": "5650894d",
   "metadata": {},
   "outputs": [],
   "source": [
    "# picks_gdf.station.isin(rc_stations)\n",
    "dd = pl.read_parquet(f\"{get_repo_dir()}/sparse2k_deduped.parquet\")\n",
    "\n"
   ]
  },
  {
   "cell_type": "code",
   "execution_count": 17,
   "id": "9ee9c88d",
   "metadata": {},
   "outputs": [
    {
     "data": {
      "text/html": [
       "<div><style>\n",
       ".dataframe > thead > tr,\n",
       ".dataframe > tbody > tr {\n",
       "  text-align: right;\n",
       "  white-space: pre-wrap;\n",
       "}\n",
       "</style>\n",
       "<small>shape: (853_275_758, 2)</small><table border=\"1\" class=\"dataframe\"><thead><tr><th>source_id</th><th>neighbor_id</th></tr><tr><td>str</td><td>str</td></tr></thead><tbody><tr><td>&quot;nc10085297--PG.AR..EH&quot;</td><td>&quot;nc68000656--PG.AR..EH&quot;</td></tr><tr><td>&quot;nc10085297--PG.AR..EH&quot;</td><td>&quot;nc68002778--PG.AR..EH&quot;</td></tr><tr><td>&quot;nc10085297--PG.AR..EH&quot;</td><td>&quot;nc68001732--PG.AR..EL&quot;</td></tr><tr><td>&quot;nc10085297--PG.AR..EH&quot;</td><td>&quot;nc68000651--PG.AR..EH&quot;</td></tr><tr><td>&quot;nc10085297--PG.AR..EH&quot;</td><td>&quot;nc68001732--PG.AR..EH&quot;</td></tr><tr><td>&hellip;</td><td>&hellip;</td></tr><tr><td>&quot;nc73972871--BG.JKR..DP&quot;</td><td>&quot;nc73978066--BG.JKR..DP&quot;</td></tr><tr><td>&quot;nc73972871--BG.JKR..DP&quot;</td><td>&quot;nc73978061--BG.JKR..DP&quot;</td></tr><tr><td>&quot;nc73972871--BG.JKR..DP&quot;</td><td>&quot;nc73978731--BG.JKR..DP&quot;</td></tr><tr><td>&quot;nc73972871--BG.JKR..DP&quot;</td><td>&quot;nc73973826--BG.JKR..DP&quot;</td></tr><tr><td>&quot;nc73972871--BG.JKR..DP&quot;</td><td>&quot;nc73975471--BG.JKR..DP&quot;</td></tr></tbody></table></div>"
      ],
      "text/plain": [
       "shape: (853_275_758, 2)\n",
       "┌────────────────────────┬────────────────────────┐\n",
       "│ source_id              ┆ neighbor_id            │\n",
       "│ ---                    ┆ ---                    │\n",
       "│ str                    ┆ str                    │\n",
       "╞════════════════════════╪════════════════════════╡\n",
       "│ nc10085297--PG.AR..EH  ┆ nc68000656--PG.AR..EH  │\n",
       "│ nc10085297--PG.AR..EH  ┆ nc68002778--PG.AR..EH  │\n",
       "│ nc10085297--PG.AR..EH  ┆ nc68001732--PG.AR..EL  │\n",
       "│ nc10085297--PG.AR..EH  ┆ nc68000651--PG.AR..EH  │\n",
       "│ nc10085297--PG.AR..EH  ┆ nc68001732--PG.AR..EH  │\n",
       "│ …                      ┆ …                      │\n",
       "│ nc73972871--BG.JKR..DP ┆ nc73978066--BG.JKR..DP │\n",
       "│ nc73972871--BG.JKR..DP ┆ nc73978061--BG.JKR..DP │\n",
       "│ nc73972871--BG.JKR..DP ┆ nc73978731--BG.JKR..DP │\n",
       "│ nc73972871--BG.JKR..DP ┆ nc73973826--BG.JKR..DP │\n",
       "│ nc73972871--BG.JKR..DP ┆ nc73975471--BG.JKR..DP │\n",
       "└────────────────────────┴────────────────────────┘"
      ]
     },
     "execution_count": 17,
     "metadata": {},
     "output_type": "execute_result"
    }
   ],
   "source": [
    "dd"
   ]
  },
  {
   "cell_type": "code",
   "execution_count": 5,
   "id": "f272b4c0",
   "metadata": {},
   "outputs": [],
   "source": [
    "dfcc = pl.read_parquet(f\"{get_repo_dir()}/wv_cc.parquet\")\n",
    "dfcc = dfcc.filter(pl.col(\"correlation\").is_not_null())\n",
    "\n",
    "# df = df.to_pandas()"
   ]
  },
  {
   "cell_type": "code",
   "execution_count": 6,
   "id": "50a173aa",
   "metadata": {},
   "outputs": [],
   "source": [
    "dfev = pl.read_csv(f\"{get_data_dir()}/metadata/picks.csv\")\n",
    "dfev = dfev[[\"event_id\",\"station_id\",\"azimuth\", \"back_azimuth\", \"distance_km\", \"elevation_m\",\n",
    "             \"depth_km\", \"local_depth_m\", \"latitude\", \"longitude\", \"snr\", \"takeoff_angle\"]]\n",
    "dfev = dfev.with_columns(\n",
    "    pl.col(\"snr\")\n",
    "    .str.strip_chars(\"[ ]\")\n",
    "    .str.replace_all(r\"\\s+\", \",\")\n",
    "    .str.split(\",\")\n",
    "    .list.eval(pl.element().cast(pl.Float64)).list.mean()\n",
    "    .alias(\"snr\")\n",
    ")"
   ]
  },
  {
   "cell_type": "code",
   "execution_count": 7,
   "id": "397e985d",
   "metadata": {},
   "outputs": [],
   "source": [
    "# Assuming your main dataframe is called `df`\n",
    "source_unique = dfcc.select(\"source_id\").unique().with_row_index(name=\"source_idx\")\n",
    "neighbor_unique = dfcc.select(\"neighbor_id\").unique().with_row_index(name=\"neighbor_idx\")\n",
    "\n",
    "# Join to get `source_idx`\n",
    "df_mapped = dfcc.join(source_unique, on=\"source_id\", how=\"left\")\n",
    "\n",
    "# Join to get `neighbor_idx`\n",
    "df_mapped = df_mapped.join(neighbor_unique, on=\"neighbor_id\", how=\"left\")\n",
    "\n"
   ]
  },
  {
   "cell_type": "code",
   "execution_count": 8,
   "id": "b655a9e3",
   "metadata": {},
   "outputs": [],
   "source": [
    "rows = df_mapped[\"source_idx\"].to_numpy()\n",
    "cols = df_mapped[\"neighbor_idx\"].to_numpy()\n",
    "data = df_mapped[\"correlation\"].to_numpy()\n",
    "\n",
    "sparse_corr = coo_matrix((data, (rows, cols)),\n",
    "                         shape=(source_unique.height, neighbor_unique.height))"
   ]
  },
  {
   "cell_type": "code",
   "execution_count": 9,
   "id": "b56372ff",
   "metadata": {},
   "outputs": [],
   "source": [
    "dfs = neighbor_unique.with_columns(\n",
    "    pl.col(\"neighbor_id\")\n",
    "    .str.split_exact(\"--\", 1)\n",
    "    .struct.rename_fields([\"event_id\", \"station_id\"])\n",
    "    .alias(\"fields\")\n",
    ").unnest(\"fields\")"
   ]
  },
  {
   "cell_type": "code",
   "execution_count": 10,
   "id": "38a37d07",
   "metadata": {},
   "outputs": [],
   "source": [
    "X_phy_feat =  dfs.join(dfev, on=[\"event_id\",\"station_id\"], how=\"left\")\\\n",
    "    .drop([\"neighbor_idx\",\"neighbor_id\",\"event_id\",\"station_id\"])#,\"longitude\",\"latitude\"])\n",
    "# "
   ]
  },
  {
   "cell_type": "code",
   "execution_count": 11,
   "id": "b3398dfb",
   "metadata": {},
   "outputs": [],
   "source": [
    "# Scale the physical features\n",
    "scaler = StandardScaler()\n",
    "X_feat_scl = scaler.fit_transform(X_phy_feat)\n",
    "\n",
    "# Reduce dimensionality with sparse-aware SVD\n",
    "svd = TruncatedSVD(n_components=100)\n",
    "X_corr_red = svd.fit_transform(sparse_corr.transpose())\n",
    "X_corr_norm = normalize(X_corr_red)        # (Optional) Normalize the features\n",
    "\n",
    "# Combine the physical and cross correlation features together\n",
    "X_combo = np.hstack([X_corr_norm, X_feat_scl,])"
   ]
  },
  {
   "cell_type": "code",
   "execution_count": null,
   "id": "38989279",
   "metadata": {},
   "outputs": [],
   "source": [
    "kmeans = KMeans(n_clusters=5, random_state=42)\n",
    "labels = kmeans.fit_predict(X_combo)"
   ]
  },
  {
   "cell_type": "code",
   "execution_count": null,
   "id": "5fc5c5f0",
   "metadata": {},
   "outputs": [],
   "source": [
    "pldt = X_phy_feat.with_columns(\n",
    "    pl.Series(\"labels\",labels)\n",
    ")\n",
    "# pldt = pldt[[\"longitude\",\"latitude\",\"labels\"]]\n",
    "# plt.scatter(labeled.longitude,labeled.latitude, c=labeled.labels)\n",
    "# plt.show()"
   ]
  },
  {
   "cell_type": "code",
   "execution_count": 39,
   "id": "5faf09b5",
   "metadata": {},
   "outputs": [
    {
     "data": {
      "text/html": [
       "<div><style>\n",
       ".dataframe > thead > tr,\n",
       ".dataframe > tbody > tr {\n",
       "  text-align: right;\n",
       "  white-space: pre-wrap;\n",
       "}\n",
       "</style>\n",
       "<small>shape: (245_220, 3)</small><table border=\"1\" class=\"dataframe\"><thead><tr><th>longitude</th><th>latitude</th><th>labels</th></tr><tr><td>f64</td><td>f64</td><td>i32</td></tr></thead><tbody><tr><td>-120.536613</td><td>36.009418</td><td>3</td></tr><tr><td>-118.959755</td><td>37.617115</td><td>4</td></tr><tr><td>-122.765747</td><td>38.770721</td><td>0</td></tr><tr><td>-122.856873</td><td>38.827545</td><td>0</td></tr><tr><td>-121.096786</td><td>36.661072</td><td>3</td></tr><tr><td>&hellip;</td><td>&hellip;</td><td>&hellip;</td></tr><tr><td>-122.875687</td><td>38.858528</td><td>2</td></tr><tr><td>-120.840836</td><td>35.212166</td><td>3</td></tr><tr><td>-119.021309</td><td>37.612782</td><td>1</td></tr><tr><td>-122.810074</td><td>38.823395</td><td>0</td></tr><tr><td>-121.518044</td><td>40.464207</td><td>1</td></tr></tbody></table></div>"
      ],
      "text/plain": [
       "shape: (245_220, 3)\n",
       "┌─────────────┬───────────┬────────┐\n",
       "│ longitude   ┆ latitude  ┆ labels │\n",
       "│ ---         ┆ ---       ┆ ---    │\n",
       "│ f64         ┆ f64       ┆ i32    │\n",
       "╞═════════════╪═══════════╪════════╡\n",
       "│ -120.536613 ┆ 36.009418 ┆ 3      │\n",
       "│ -118.959755 ┆ 37.617115 ┆ 4      │\n",
       "│ -122.765747 ┆ 38.770721 ┆ 0      │\n",
       "│ -122.856873 ┆ 38.827545 ┆ 0      │\n",
       "│ -121.096786 ┆ 36.661072 ┆ 3      │\n",
       "│ …           ┆ …         ┆ …      │\n",
       "│ -122.875687 ┆ 38.858528 ┆ 2      │\n",
       "│ -120.840836 ┆ 35.212166 ┆ 3      │\n",
       "│ -119.021309 ┆ 37.612782 ┆ 1      │\n",
       "│ -122.810074 ┆ 38.823395 ┆ 0      │\n",
       "│ -121.518044 ┆ 40.464207 ┆ 1      │\n",
       "└─────────────┴───────────┴────────┘"
      ]
     },
     "execution_count": 39,
     "metadata": {},
     "output_type": "execute_result"
    }
   ],
   "source": [
    "pldt"
   ]
  },
  {
   "cell_type": "code",
   "execution_count": 38,
   "id": "efa3f748",
   "metadata": {},
   "outputs": [
    {
     "data": {
      "text/plain": [
       "array([0, 1, 2, 3, 4], dtype=int32)"
      ]
     },
     "execution_count": 38,
     "metadata": {},
     "output_type": "execute_result"
    }
   ],
   "source": [
    "np.unique(labels)"
   ]
  },
  {
   "cell_type": "code",
   "execution_count": 36,
   "id": "a8dfde8d",
   "metadata": {},
   "outputs": [
    {
     "data": {
      "image/png": "[encoded data removed]",
      "text/plain": [
       "<Figure size 640x480 with 1 Axes>"
      ]
     },
     "metadata": {},
     "output_type": "display_data"
    }
   ],
   "source": [
    "sns.scatterplot(x=\"longitude\", y=\"latitude\", data=pldt, hue=\"labels\", size=1, ec=None, palette=\"plasma\")\n",
    "plt.show()"
   ]
  },
  {
   "cell_type": "code",
   "execution_count": 42,
   "id": "819db7d6",
   "metadata": {},
   "outputs": [
    {
     "data": {
      "text/plain": [
       "labels\n",
       "0         75316\n",
       "4         64627\n",
       "2         40237\n",
       "3         37277\n",
       "1         27763\n",
       "Name: count, dtype: int64"
      ]
     },
     "execution_count": 42,
     "metadata": {},
     "output_type": "execute_result"
    }
   ],
   "source": [
    "pd.DataFrame({\"labels\":labels}).value_counts()"
   ]
  },
  {
   "cell_type": "code",
   "execution_count": 16,
   "id": "4188a032",
   "metadata": {},
   "outputs": [
    {
     "data": {
      "text/plain": [
       "<COOrdinate sparse matrix of dtype 'float64'\n",
       "\twith 37471683 stored elements and shape (56635, 245220)>"
      ]
     },
     "execution_count": 16,
     "metadata": {},
     "output_type": "execute_result"
    }
   ],
   "source": [
    "sparse_corr"
   ]
  },
  {
   "cell_type": "code",
   "execution_count": 12,
   "id": "b04c409f",
   "metadata": {},
   "outputs": [],
   "source": [
    "dense = sparse_corr.toarray()"
   ]
  },
  {
   "cell_type": "code",
   "execution_count": null,
   "id": "6cb77acc",
   "metadata": {},
   "outputs": [],
   "source": [
    "pairwise_distances = sch.distance.pdist(dense)\n",
    "linkage = sch.linkage(pairwise_distances, method='complete')\n",
    "cluster_distance_threshold = pairwise_distances.max()/2\n",
    "idx_to_cluster_array = sch.fcluster(linkage, cluster_distance_threshold, criterion='distance')\n",
    "idx = np.argsort(idx_to_cluster_array)"
   ]
  },
  {
   "cell_type": "code",
   "execution_count": 16,
   "id": "eab38d81",
   "metadata": {},
   "outputs": [
    {
     "data": {
      "image/png": "[encoded data removed]",
      "text/plain": [
       "<Figure size 640x480 with 2 Axes>"
      ]
     },
     "metadata": {},
     "output_type": "display_data"
    }
   ],
   "source": [
    "n = 1000\n",
    "nn = n + 2000\n",
    "\n",
    "sns.heatmap(np.abs(dense[n:nn,n:nn]))\n",
    "plt.show()"
   ]
  },
  {
   "cell_type": "code",
   "execution_count": null,
   "id": "a2fc989a",
   "metadata": {},
   "outputs": [],
   "source": [
    "\n",
    "da = xr.DataArray(\n",
    "    dense,\n",
    "    dims=[\"source_id\", \"neighbor_id\"],\n",
    "    coords={\n",
    "        \"source_id\": source_unique[\"source_idx\"].to_numpy(),\n",
    "        \"neighbor_id\": neighbor_unique[\"neighbor_idx\"].to_numpy()\n",
    "    },\n",
    "    name=\"correlation\"\n",
    ")"
   ]
  },
  {
   "cell_type": "code",
   "execution_count": 8,
   "id": "b43fad9d",
   "metadata": {},
   "outputs": [
    {
     "data": {
      "text/html": [
       "<div><svg style=\"position: absolute; width: 0; height: 0; overflow: hidden\">\n",
       "<defs>\n",
       "<symbol id=\"icon-database\" viewBox=\"0 0 32 32\">\n",
       "<path d=\"M16 0c-8.837 0-16 2.239-16 5v4c0 2.761 7.163 5 16 5s16-2.239 16-5v-4c0-2.761-7.163-5-16-5z\"></path>\n",
       "<path d=\"M16 17c-8.837 0-16-2.239-16-5v6c0 2.761 7.163 5 16 5s16-2.239 16-5v-6c0 2.761-7.163 5-16 5z\"></path>\n",
       "<path d=\"M16 26c-8.837 0-16-2.239-16-5v6c0 2.761 7.163 5 16 5s16-2.239 16-5v-6c0 2.761-7.163 5-16 5z\"></path>\n",
       "</symbol>\n",
       "<symbol id=\"icon-file-text2\" viewBox=\"0 0 32 32\">\n",
       "<path d=\"M28.681 7.159c-0.694-0.947-1.662-2.053-2.724-3.116s-2.169-2.030-3.116-2.724c-1.612-1.182-2.393-1.319-2.841-1.319h-15.5c-1.378 0-2.5 1.121-2.5 2.5v27c0 1.378 1.122 2.5 2.5 2.5h23c1.378 0 2.5-1.122 2.5-2.5v-19.5c0-0.448-0.137-1.23-1.319-2.841zM24.543 5.457c0.959 0.959 1.712 1.825 2.268 2.543h-4.811v-4.811c0.718 0.556 1.584 1.309 2.543 2.268zM28 29.5c0 0.271-0.229 0.5-0.5 0.5h-23c-0.271 0-0.5-0.229-0.5-0.5v-27c0-0.271 0.229-0.5 0.5-0.5 0 0 15.499-0 15.5 0v7c0 0.552 0.448 1 1 1h7v19.5z\"></path>\n",
       "<path d=\"M23 26h-14c-0.552 0-1-0.448-1-1s0.448-1 1-1h14c0.552 0 1 0.448 1 1s-0.448 1-1 1z\"></path>\n",
       "<path d=\"M23 22h-14c-0.552 0-1-0.448-1-1s0.448-1 1-1h14c0.552 0 1 0.448 1 1s-0.448 1-1 1z\"></path>\n",
       "<path d=\"M23 18h-14c-0.552 0-1-0.448-1-1s0.448-1 1-1h14c0.552 0 1 0.448 1 1s-0.448 1-1 1z\"></path>\n",
       "</symbol>\n",
       "</defs>\n",
       "</svg>\n",
       "<style>/* CSS stylesheet for displaying xarray objects in jupyterlab.\n",
       " *\n",
       " */\n",
       "\n",
       ":root {\n",
       "  --xr-font-color0: var(\n",
       "    --jp-content-font-color0,\n",
       "    var(--pst-color-text-base rgba(0, 0, 0, 1))\n",
       "  );\n",
       "  --xr-font-color2: var(\n",
       "    --jp-content-font-color2,\n",
       "    var(--pst-color-text-base, rgba(0, 0, 0, 0.54))\n",
       "  );\n",
       "  --xr-font-color3: var(\n",
       "    --jp-content-font-color3,\n",
       "    var(--pst-color-text-base, rgba(0, 0, 0, 0.38))\n",
       "  );\n",
       "  --xr-border-color: var(\n",
       "    --jp-border-color2,\n",
       "    hsl(from var(--pst-color-on-background, white) h s calc(l - 10))\n",
       "  );\n",
       "  --xr-disabled-color: var(\n",
       "    --jp-layout-color3,\n",
       "    hsl(from var(--pst-color-on-background, white) h s calc(l - 40))\n",
       "  );\n",
       "  --xr-background-color: var(\n",
       "    --jp-layout-color0,\n",
       "    var(--pst-color-on-background, white)\n",
       "  );\n",
       "  --xr-background-color-row-even: var(\n",
       "    --jp-layout-color1,\n",
       "    hsl(from var(--pst-color-on-background, white) h s calc(l - 5))\n",
       "  );\n",
       "  --xr-background-color-row-odd: var(\n",
       "    --jp-layout-color2,\n",
       "    hsl(from var(--pst-color-on-background, white) h s calc(l - 15))\n",
       "  );\n",
       "}\n",
       "\n",
       "html[theme=\"dark\"],\n",
       "html[data-theme=\"dark\"],\n",
       "body[data-theme=\"dark\"],\n",
       "body.vscode-dark {\n",
       "  --xr-font-color0: var(\n",
       "    --jp-content-font-color0,\n",
       "    var(--pst-color-text-base, rgba(255, 255, 255, 1))\n",
       "  );\n",
       "  --xr-font-color2: var(\n",
       "    --jp-content-font-color2,\n",
       "    var(--pst-color-text-base, rgba(255, 255, 255, 0.54))\n",
       "  );\n",
       "  --xr-font-color3: var(\n",
       "    --jp-content-font-color3,\n",
       "    var(--pst-color-text-base, rgba(255, 255, 255, 0.38))\n",
       "  );\n",
       "  --xr-border-color: var(\n",
       "    --jp-border-color2,\n",
       "    hsl(from var(--pst-color-on-background, #111111) h s calc(l + 10))\n",
       "  );\n",
       "  --xr-disabled-color: var(\n",
       "    --jp-layout-color3,\n",
       "    hsl(from var(--pst-color-on-background, #111111) h s calc(l + 40))\n",
       "  );\n",
       "  --xr-background-color: var(\n",
       "    --jp-layout-color0,\n",
       "    var(--pst-color-on-background, #111111)\n",
       "  );\n",
       "  --xr-background-color-row-even: var(\n",
       "    --jp-layout-color1,\n",
       "    hsl(from var(--pst-color-on-background, #111111) h s calc(l + 5))\n",
       "  );\n",
       "  --xr-background-color-row-odd: var(\n",
       "    --jp-layout-color2,\n",
       "    hsl(from var(--pst-color-on-background, #111111) h s calc(l + 15))\n",
       "  );\n",
       "}\n",
       "\n",
       ".xr-wrap {\n",
       "  display: block !important;\n",
       "  min-width: 300px;\n",
       "  max-width: 700px;\n",
       "}\n",
       "\n",
       ".xr-text-repr-fallback {\n",
       "  /* fallback to plain text repr when CSS is not injected (untrusted notebook) */\n",
       "  display: none;\n",
       "}\n",
       "\n",
       ".xr-header {\n",
       "  padding-top: 6px;\n",
       "  padding-bottom: 6px;\n",
       "  margin-bottom: 4px;\n",
       "  border-bottom: solid 1px var(--xr-border-color);\n",
       "}\n",
       "\n",
       ".xr-header > div,\n",
       ".xr-header > ul {\n",
       "  display: inline;\n",
       "  margin-top: 0;\n",
       "  margin-bottom: 0;\n",
       "}\n",
       "\n",
       ".xr-obj-type,\n",
       ".xr-array-name {\n",
       "  margin-left: 2px;\n",
       "  margin-right: 10px;\n",
       "}\n",
       "\n",
       ".xr-obj-type {\n",
       "  color: var(--xr-font-color2);\n",
       "}\n",
       "\n",
       ".xr-sections {\n",
       "  padding-left: 0 !important;\n",
       "  display: grid;\n",
       "  grid-template-columns: 150px auto auto 1fr 0 20px 0 20px;\n",
       "}\n",
       "\n",
       ".xr-section-item {\n",
       "  display: contents;\n",
       "}\n",
       "\n",
       ".xr-section-item input {\n",
       "  display: inline-block;\n",
       "  opacity: 0;\n",
       "  height: 0;\n",
       "}\n",
       "\n",
       ".xr-section-item input + label {\n",
       "  color: var(--xr-disabled-color);\n",
       "  border: 2px solid transparent !important;\n",
       "}\n",
       "\n",
       ".xr-section-item input:enabled + label {\n",
       "  cursor: pointer;\n",
       "  color: var(--xr-font-color2);\n",
       "}\n",
       "\n",
       ".xr-section-item input:focus + label {\n",
       "  border: 2px solid var(--xr-font-color0) !important;\n",
       "}\n",
       "\n",
       ".xr-section-item input:enabled + label:hover {\n",
       "  color: var(--xr-font-color0);\n",
       "}\n",
       "\n",
       ".xr-section-summary {\n",
       "  grid-column: 1;\n",
       "  color: var(--xr-font-color2);\n",
       "  font-weight: 500;\n",
       "}\n",
       "\n",
       ".xr-section-summary > span {\n",
       "  display: inline-block;\n",
       "  padding-left: 0.5em;\n",
       "}\n",
       "\n",
       ".xr-section-summary-in:disabled + label {\n",
       "  color: var(--xr-font-color2);\n",
       "}\n",
       "\n",
       ".xr-section-summary-in + label:before {\n",
       "  display: inline-block;\n",
       "  content: \"►\";\n",
       "  font-size: 11px;\n",
       "  width: 15px;\n",
       "  text-align: center;\n",
       "}\n",
       "\n",
       ".xr-section-summary-in:disabled + label:before {\n",
       "  color: var(--xr-disabled-color);\n",
       "}\n",
       "\n",
       ".xr-section-summary-in:checked + label:before {\n",
       "  content: \"▼\";\n",
       "}\n",
       "\n",
       ".xr-section-summary-in:checked + label > span {\n",
       "  display: none;\n",
       "}\n",
       "\n",
       ".xr-section-summary,\n",
       ".xr-section-inline-details {\n",
       "  padding-top: 4px;\n",
       "  padding-bottom: 4px;\n",
       "}\n",
       "\n",
       ".xr-section-inline-details {\n",
       "  grid-column: 2 / -1;\n",
       "}\n",
       "\n",
       ".xr-section-details {\n",
       "  display: none;\n",
       "  grid-column: 1 / -1;\n",
       "  margin-bottom: 5px;\n",
       "}\n",
       "\n",
       ".xr-section-summary-in:checked ~ .xr-section-details {\n",
       "  display: contents;\n",
       "}\n",
       "\n",
       ".xr-array-wrap {\n",
       "  grid-column: 1 / -1;\n",
       "  display: grid;\n",
       "  grid-template-columns: 20px auto;\n",
       "}\n",
       "\n",
       ".xr-array-wrap > label {\n",
       "  grid-column: 1;\n",
       "  vertical-align: top;\n",
       "}\n",
       "\n",
       ".xr-preview {\n",
       "  color: var(--xr-font-color3);\n",
       "}\n",
       "\n",
       ".xr-array-preview,\n",
       ".xr-array-data {\n",
       "  padding: 0 5px !important;\n",
       "  grid-column: 2;\n",
       "}\n",
       "\n",
       ".xr-array-data,\n",
       ".xr-array-in:checked ~ .xr-array-preview {\n",
       "  display: none;\n",
       "}\n",
       "\n",
       ".xr-array-in:checked ~ .xr-array-data,\n",
       ".xr-array-preview {\n",
       "  display: inline-block;\n",
       "}\n",
       "\n",
       ".xr-dim-list {\n",
       "  display: inline-block !important;\n",
       "  list-style: none;\n",
       "  padding: 0 !important;\n",
       "  margin: 0;\n",
       "}\n",
       "\n",
       ".xr-dim-list li {\n",
       "  display: inline-block;\n",
       "  padding: 0;\n",
       "  margin: 0;\n",
       "}\n",
       "\n",
       ".xr-dim-list:before {\n",
       "  content: \"(\";\n",
       "}\n",
       "\n",
       ".xr-dim-list:after {\n",
       "  content: \")\";\n",
       "}\n",
       "\n",
       ".xr-dim-list li:not(:last-child):after {\n",
       "  content: \",\";\n",
       "  padding-right: 5px;\n",
       "}\n",
       "\n",
       ".xr-has-index {\n",
       "  font-weight: bold;\n",
       "}\n",
       "\n",
       ".xr-var-list,\n",
       ".xr-var-item {\n",
       "  display: contents;\n",
       "}\n",
       "\n",
       ".xr-var-item > div,\n",
       ".xr-var-item label,\n",
       ".xr-var-item > .xr-var-name span {\n",
       "  background-color: var(--xr-background-color-row-even);\n",
       "  border-color: var(--xr-background-color-row-odd);\n",
       "  margin-bottom: 0;\n",
       "  padding-top: 2px;\n",
       "}\n",
       "\n",
       ".xr-var-item > .xr-var-name:hover span {\n",
       "  padding-right: 5px;\n",
       "}\n",
       "\n",
       ".xr-var-list > li:nth-child(odd) > div,\n",
       ".xr-var-list > li:nth-child(odd) > label,\n",
       ".xr-var-list > li:nth-child(odd) > .xr-var-name span {\n",
       "  background-color: var(--xr-background-color-row-odd);\n",
       "  border-color: var(--xr-background-color-row-even);\n",
       "}\n",
       "\n",
       ".xr-var-name {\n",
       "  grid-column: 1;\n",
       "}\n",
       "\n",
       ".xr-var-dims {\n",
       "  grid-column: 2;\n",
       "}\n",
       "\n",
       ".xr-var-dtype {\n",
       "  grid-column: 3;\n",
       "  text-align: right;\n",
       "  color: var(--xr-font-color2);\n",
       "}\n",
       "\n",
       ".xr-var-preview {\n",
       "  grid-column: 4;\n",
       "}\n",
       "\n",
       ".xr-index-preview {\n",
       "  grid-column: 2 / 5;\n",
       "  color: var(--xr-font-color2);\n",
       "}\n",
       "\n",
       ".xr-var-name,\n",
       ".xr-var-dims,\n",
       ".xr-var-dtype,\n",
       ".xr-preview,\n",
       ".xr-attrs dt {\n",
       "  white-space: nowrap;\n",
       "  overflow: hidden;\n",
       "  text-overflow: ellipsis;\n",
       "  padding-right: 10px;\n",
       "}\n",
       "\n",
       ".xr-var-name:hover,\n",
       ".xr-var-dims:hover,\n",
       ".xr-var-dtype:hover,\n",
       ".xr-attrs dt:hover {\n",
       "  overflow: visible;\n",
       "  width: auto;\n",
       "  z-index: 1;\n",
       "}\n",
       "\n",
       ".xr-var-attrs,\n",
       ".xr-var-data,\n",
       ".xr-index-data {\n",
       "  display: none;\n",
       "  border-top: 2px dotted var(--xr-background-color);\n",
       "  padding-bottom: 20px !important;\n",
       "  padding-top: 10px !important;\n",
       "}\n",
       "\n",
       ".xr-var-attrs-in + label,\n",
       ".xr-var-data-in + label,\n",
       ".xr-index-data-in + label {\n",
       "  padding: 0 1px;\n",
       "}\n",
       "\n",
       ".xr-var-attrs-in:checked ~ .xr-var-attrs,\n",
       ".xr-var-data-in:checked ~ .xr-var-data,\n",
       ".xr-index-data-in:checked ~ .xr-index-data {\n",
       "  display: block;\n",
       "}\n",
       "\n",
       ".xr-var-data > table {\n",
       "  float: right;\n",
       "}\n",
       "\n",
       ".xr-var-data > pre,\n",
       ".xr-index-data > pre,\n",
       ".xr-var-data > table > tbody > tr {\n",
       "  background-color: transparent !important;\n",
       "}\n",
       "\n",
       ".xr-var-name span,\n",
       ".xr-var-data,\n",
       ".xr-index-name div,\n",
       ".xr-index-data,\n",
       ".xr-attrs {\n",
       "  padding-left: 25px !important;\n",
       "}\n",
       "\n",
       ".xr-attrs,\n",
       ".xr-var-attrs,\n",
       ".xr-var-data,\n",
       ".xr-index-data {\n",
       "  grid-column: 1 / -1;\n",
       "}\n",
       "\n",
       "dl.xr-attrs {\n",
       "  padding: 0;\n",
       "  margin: 0;\n",
       "  display: grid;\n",
       "  grid-template-columns: 125px auto;\n",
       "}\n",
       "\n",
       ".xr-attrs dt,\n",
       ".xr-attrs dd {\n",
       "  padding: 0;\n",
       "  margin: 0;\n",
       "  float: left;\n",
       "  padding-right: 10px;\n",
       "  width: auto;\n",
       "}\n",
       "\n",
       ".xr-attrs dt {\n",
       "  font-weight: normal;\n",
       "  grid-column: 1;\n",
       "}\n",
       "\n",
       ".xr-attrs dt:hover span {\n",
       "  display: inline-block;\n",
       "  background: var(--xr-background-color);\n",
       "  padding-right: 10px;\n",
       "}\n",
       "\n",
       ".xr-attrs dd {\n",
       "  grid-column: 2;\n",
       "  white-space: pre-wrap;\n",
       "  word-break: break-all;\n",
       "}\n",
       "\n",
       ".xr-icon-database,\n",
       ".xr-icon-file-text2,\n",
       ".xr-no-icon {\n",
       "  display: inline-block;\n",
       "  vertical-align: middle;\n",
       "  width: 1em;\n",
       "  height: 1.5em !important;\n",
       "  stroke-width: 0;\n",
       "  stroke: currentColor;\n",
       "  fill: currentColor;\n",
       "}\n",
       "\n",
       ".xr-var-attrs-in:checked + label > .xr-icon-file-text2,\n",
       ".xr-var-data-in:checked + label > .xr-icon-database,\n",
       ".xr-index-data-in:checked + label > .xr-icon-database {\n",
       "  color: var(--xr-font-color0);\n",
       "  filter: drop-shadow(1px 1px 5px var(--xr-font-color2));\n",
       "  stroke-width: 0.8px;\n",
       "}\n",
       "</style><pre class='xr-text-repr-fallback'>&lt;xarray.DataArray &#x27;correlation&#x27; ()&gt; Size: 8B\n",
       "array(-3.72285925e-07)</pre><div class='xr-wrap' style='display:none'><div class='xr-header'><div class='xr-obj-type'>xarray.DataArray</div><div class='xr-array-name'>'correlation'</div></div><ul class='xr-sections'><li class='xr-section-item'><div class='xr-array-wrap'><input id='section-02980848-167d-4bf0-934f-89a1fb64b5ff' class='xr-array-in' type='checkbox' checked><label for='section-02980848-167d-4bf0-934f-89a1fb64b5ff' title='Show/hide data repr'><svg class='icon xr-icon-database'><use xlink:href='#icon-database'></use></svg></label><div class='xr-array-preview xr-preview'><span>-3.723e-07</span></div><div class='xr-array-data'><pre>array(-3.72285925e-07)</pre></div></div></li><li class='xr-section-item'><input id='section-277b8bda-1530-4607-9725-c20d9ec478ef' class='xr-section-summary-in' type='checkbox' disabled ><label for='section-277b8bda-1530-4607-9725-c20d9ec478ef' class='xr-section-summary'  title='Expand/collapse section'>Coordinates: <span>(0)</span></label><div class='xr-section-inline-details'></div><div class='xr-section-details'><ul class='xr-var-list'></ul></div></li><li class='xr-section-item'><input id='section-2a25ccd1-200a-41d1-a704-eaa7a49e010d' class='xr-section-summary-in' type='checkbox' disabled ><label for='section-2a25ccd1-200a-41d1-a704-eaa7a49e010d' class='xr-section-summary'  title='Expand/collapse section'>Indexes: <span>(0)</span></label><div class='xr-section-inline-details'></div><div class='xr-section-details'><ul class='xr-var-list'></ul></div></li><li class='xr-section-item'><input id='section-6e320b21-302f-4e36-8043-649219db408c' class='xr-section-summary-in' type='checkbox' disabled ><label for='section-6e320b21-302f-4e36-8043-649219db408c' class='xr-section-summary'  title='Expand/collapse section'>Attributes: <span>(0)</span></label><div class='xr-section-inline-details'></div><div class='xr-section-details'><dl class='xr-attrs'></dl></div></li></ul></div></div>"
      ],
      "text/plain": [
       "<xarray.DataArray 'correlation' ()> Size: 8B\n",
       "array(-3.72285925e-07)"
      ]
     },
     "execution_count": 8,
     "metadata": {},
     "output_type": "execute_result"
    }
   ],
   "source": [
    "da.mean()"
   ]
  },
  {
   "cell_type": "code",
   "execution_count": null,
   "id": "e2f77b50",
   "metadata": {},
   "outputs": [
    {
     "data": {
      "text/plain": [
       "(np.float64(-0.6421861052513123), np.float64(0.8652209043502808))"
      ]
     },
     "execution_count": 44,
     "metadata": {},
     "output_type": "execute_result"
    }
   ],
   "source": [
    "np.nanmin(dense[::100,::100]),np.nanmax(dense[::100,::100])"
   ]
  },
  {
   "cell_type": "code",
   "execution_count": 16,
   "id": "38966672",
   "metadata": {},
   "outputs": [
    {
     "ename": "",
     "evalue": "",
     "output_type": "error",
     "traceback": [
      "\u001b[1;31mThe Kernel crashed while executing code in the current cell or a previous cell. \n",
      "\u001b[1;31mPlease review the code in the cell(s) to identify a possible cause of the failure. \n",
      "\u001b[1;31mClick <a href='https://aka.ms/vscodeJupyterKernelCrash'>here</a> for more info. \n",
      "\u001b[1;31mView Jupyter <a href='command:jupyter.viewOutput'>log</a> for further details."
     ]
    }
   ],
   "source": [
    "np.nanmean(dense)"
   ]
  },
  {
   "cell_type": "code",
   "execution_count": null,
   "id": "f7b66fdf",
   "metadata": {},
   "outputs": [
    {
     "data": {
      "image/png": "[encoded data removed]",
      "text/plain": [
       "<Figure size 640x480 with 1 Axes>"
      ]
     },
     "metadata": {},
     "output_type": "display_data"
    }
   ],
   "source": [
    "cmap = plt.cm.rainbow.copy()  # Get a copy of a colormap\n",
    "cmap.set_bad('white')\n",
    "\n",
    "plt.imshow(np.abs(dense[3000:5000,3000:5000]),cmap=cmap,vmin=0, vmax=1)\n",
    "plt.show()"
   ]
  },
  {
   "cell_type": "code",
   "execution_count": 4,
   "id": "918a611c",
   "metadata": {},
   "outputs": [
    {
     "data": {
      "text/plain": [
       "(59550, 255473)"
      ]
     },
     "execution_count": 4,
     "metadata": {},
     "output_type": "execute_result"
    }
   ],
   "source": [
    "len(df[\"source_id\"].unique()),len(df[\"neighbor_id\"].unique())"
   ]
  },
  {
   "cell_type": "code",
   "execution_count": 3,
   "id": "111e84c8",
   "metadata": {},
   "outputs": [],
   "source": [
    "sparse_dtype = pd.SparseDtype(np.float64, np.nan)\n",
    "df[\"correlation\"] = df[\"correlation\"].astype(sparse_dtype)"
   ]
  },
  {
   "cell_type": "code",
   "execution_count": 4,
   "id": "c28f406f",
   "metadata": {},
   "outputs": [
    {
     "name": "stderr",
     "output_type": "stream",
     "text": [
      "/var/folders/7j/_nb3hp3x1gd55zvfzstp5vvw0000gp/T/ipykernel_62159/2797929660.py:1: PerformanceWarning: The following operation may generate 15213417150 cells in the resulting pandas object.\n",
      "  pvtdf = df.pivot(index=\"source_id\",columns=\"neighbor_id\",values=\"correlation\")\n"
     ]
    },
    {
     "ename": "",
     "evalue": "",
     "output_type": "error",
     "traceback": [
      "\u001b[1;31mThe Kernel crashed while executing code in the current cell or a previous cell. \n",
      "\u001b[1;31mPlease review the code in the cell(s) to identify a possible cause of the failure. \n",
      "\u001b[1;31mClick <a href='https://aka.ms/vscodeJupyterKernelCrash'>here</a> for more info. \n",
      "\u001b[1;31mView Jupyter <a href='command:jupyter.viewOutput'>log</a> for further details."
     ]
    }
   ],
   "source": [
    "pvtdf = df.pivot(index=\"source_id\",columns=\"neighbor_id\",values=\"correlation\")"
   ]
  },
  {
   "cell_type": "code",
   "execution_count": 6,
   "id": "32150216",
   "metadata": {},
   "outputs": [
    {
     "ename": "",
     "evalue": "",
     "output_type": "error",
     "traceback": [
      "\u001b[1;31mThe Kernel crashed while executing code in the current cell or a previous cell. \n",
      "\u001b[1;31mPlease review the code in the cell(s) to identify a possible cause of the failure. \n",
      "\u001b[1;31mClick <a href='https://aka.ms/vscodeJupyterKernelCrash'>here</a> for more info. \n",
      "\u001b[1;31mView Jupyter <a href='command:jupyter.viewOutput'>log</a> for further details."
     ]
    }
   ],
   "source": [
    "dfp = corr.pivot(\"neighbor_id\", index=\"source_id\", values=\"correlation\")"
   ]
  },
  {
   "cell_type": "code",
   "execution_count": 5,
   "id": "96d87d1e",
   "metadata": {},
   "outputs": [
    {
     "ename": "AttributeError",
     "evalue": "'LazyFrame' object has no attribute 'pivot'",
     "output_type": "error",
     "traceback": [
      "\u001b[31m---------------------------------------------------------------------------\u001b[39m",
      "\u001b[31mAttributeError\u001b[39m                            Traceback (most recent call last)",
      "\u001b[36mCell\u001b[39m\u001b[36m \u001b[39m\u001b[32mIn[5]\u001b[39m\u001b[32m, line 5\u001b[39m\n\u001b[32m      1\u001b[39m lf = corr.lazy()\n\u001b[32m      3\u001b[39m \u001b[38;5;66;03m# Pivot: rows = source_id, columns = neighbor_id, values = correlation\u001b[39;00m\n\u001b[32m      4\u001b[39m pivoted = (\n\u001b[32m----> \u001b[39m\u001b[32m5\u001b[39m     \u001b[43mlf\u001b[49m\u001b[43m.\u001b[49m\u001b[43mpivot\u001b[49m(\n\u001b[32m      6\u001b[39m         values=\u001b[33m\"\u001b[39m\u001b[33mcorrelation\u001b[39m\u001b[33m\"\u001b[39m,\n\u001b[32m      7\u001b[39m         index=\u001b[33m\"\u001b[39m\u001b[33msource_id\u001b[39m\u001b[33m\"\u001b[39m,\n\u001b[32m      8\u001b[39m         columns=\u001b[33m\"\u001b[39m\u001b[33mneighbor_id\u001b[39m\u001b[33m\"\u001b[39m,\n\u001b[32m      9\u001b[39m         aggregate_function=\u001b[33m\"\u001b[39m\u001b[33mfirst\u001b[39m\u001b[33m\"\u001b[39m  \u001b[38;5;66;03m# Or \"mean\" if duplicates expected\u001b[39;00m\n\u001b[32m     10\u001b[39m     )\n\u001b[32m     11\u001b[39m )\n\u001b[32m     13\u001b[39m \u001b[38;5;66;03m# Collect the result into an eager DataFrame\u001b[39;00m\n\u001b[32m     14\u001b[39m corr_mat = pivoted.collect()\n",
      "\u001b[31mAttributeError\u001b[39m: 'LazyFrame' object has no attribute 'pivot'"
     ]
    }
   ],
   "source": [
    "lf = corr.lazy()\n",
    "\n",
    "# Pivot: rows = source_id, columns = neighbor_id, values = correlation\n",
    "pivoted = (\n",
    "    lf.pivot(\n",
    "        values=\"correlation\",\n",
    "        index=\"source_id\",\n",
    "        columns=\"neighbor_id\",\n",
    "        aggregate_function=\"first\"  # Or \"mean\" if duplicates expected\n",
    "    )\n",
    ")\n",
    "\n",
    "# Collect the result into an eager DataFrame\n",
    "corr_mat = pivoted.collect()\n",
    "\n",
    "# (Optional) Fill nulls if needed\n",
    "corr_mat = corr_mat.fill_null(0.0)\n"
   ]
  },
  {
   "cell_type": "code",
   "execution_count": 18,
   "id": "76cb26fd",
   "metadata": {},
   "outputs": [
    {
     "data": {
      "text/html": [
       "<div><style>\n",
       ".dataframe > thead > tr,\n",
       ".dataframe > tbody > tr {\n",
       "  text-align: right;\n",
       "  white-space: pre-wrap;\n",
       "}\n",
       "</style>\n",
       "<small>shape: (38_604_186, 4)</small><table border=\"1\" class=\"dataframe\"><thead><tr><th>id</th><th>source_id</th><th>neighbor_id</th><th>correlation</th></tr><tr><td>i64</td><td>str</td><td>str</td><td>f64</td></tr></thead><tbody><tr><td>1</td><td>&quot;nc10089291--PG.LM..EH&quot;</td><td>&quot;nc68000059--PG.LM..EH&quot;</td><td>-0.074714</td></tr><tr><td>2</td><td>&quot;nc10089291--PG.LM..EH&quot;</td><td>&quot;nc68000059--PG.LM..EL&quot;</td><td>-0.012255</td></tr><tr><td>3</td><td>&quot;nc10089105--PG.LM..EH&quot;</td><td>&quot;nc68000059--PG.LM..EH&quot;</td><td>0.041827</td></tr><tr><td>4</td><td>&quot;nc10089105--PG.LM..EH&quot;</td><td>&quot;nc68000059--PG.LM..EL&quot;</td><td>0.001913</td></tr><tr><td>5</td><td>&quot;nc10090378--PG.DC..EL&quot;</td><td>&quot;nc205900--PG.DC..EH&quot;</td><td>0.038025</td></tr><tr><td>&hellip;</td><td>&hellip;</td><td>&hellip;</td><td>&hellip;</td></tr><tr><td>38604182</td><td>&quot;nc21359248--NC.GDX..EH&quot;</td><td>&quot;nc71984276--NC.GDXB..HH&quot;</td><td>-0.194379</td></tr><tr><td>38604183</td><td>&quot;nc21359248--NC.GDX..EH&quot;</td><td>&quot;nc72545870--NC.GDXB..HH&quot;</td><td>0.068166</td></tr><tr><td>38604184</td><td>&quot;nc21359248--NC.GDX..EH&quot;</td><td>&quot;nc73166435--NC.GDXB..HH&quot;</td><td>-0.126393</td></tr><tr><td>38604185</td><td>&quot;nc21359248--NC.GDX..EH&quot;</td><td>&quot;nc72318241--NC.GDXB..HH&quot;</td><td>-0.314197</td></tr><tr><td>38604186</td><td>&quot;nc21359248--NC.GDX..EH&quot;</td><td>&quot;nc73102151--BG.FUM..DP&quot;</td><td>0.086666</td></tr></tbody></table></div>"
      ],
      "text/plain": [
       "shape: (38_604_186, 4)\n",
       "┌──────────┬────────────────────────┬─────────────────────────┬─────────────┐\n",
       "│ id       ┆ source_id              ┆ neighbor_id             ┆ correlation │\n",
       "│ ---      ┆ ---                    ┆ ---                     ┆ ---         │\n",
       "│ i64      ┆ str                    ┆ str                     ┆ f64         │\n",
       "╞══════════╪════════════════════════╪═════════════════════════╪═════════════╡\n",
       "│ 1        ┆ nc10089291--PG.LM..EH  ┆ nc68000059--PG.LM..EH   ┆ -0.074714   │\n",
       "│ 2        ┆ nc10089291--PG.LM..EH  ┆ nc68000059--PG.LM..EL   ┆ -0.012255   │\n",
       "│ 3        ┆ nc10089105--PG.LM..EH  ┆ nc68000059--PG.LM..EH   ┆ 0.041827    │\n",
       "│ 4        ┆ nc10089105--PG.LM..EH  ┆ nc68000059--PG.LM..EL   ┆ 0.001913    │\n",
       "│ 5        ┆ nc10090378--PG.DC..EL  ┆ nc205900--PG.DC..EH     ┆ 0.038025    │\n",
       "│ …        ┆ …                      ┆ …                       ┆ …           │\n",
       "│ 38604182 ┆ nc21359248--NC.GDX..EH ┆ nc71984276--NC.GDXB..HH ┆ -0.194379   │\n",
       "│ 38604183 ┆ nc21359248--NC.GDX..EH ┆ nc72545870--NC.GDXB..HH ┆ 0.068166    │\n",
       "│ 38604184 ┆ nc21359248--NC.GDX..EH ┆ nc73166435--NC.GDXB..HH ┆ -0.126393   │\n",
       "│ 38604185 ┆ nc21359248--NC.GDX..EH ┆ nc72318241--NC.GDXB..HH ┆ -0.314197   │\n",
       "│ 38604186 ┆ nc21359248--NC.GDX..EH ┆ nc73102151--BG.FUM..DP  ┆ 0.086666    │\n",
       "└──────────┴────────────────────────┴─────────────────────────┴─────────────┘"
      ]
     },
     "execution_count": 18,
     "metadata": {},
     "output_type": "execute_result"
    }
   ],
   "source": [
    "df"
   ]
  },
  {
   "cell_type": "code",
   "execution_count": null,
   "id": "830c71e3",
   "metadata": {},
   "outputs": [
    {
     "name": "stderr",
     "output_type": "stream",
     "text": [
      "/var/folders/7j/_nb3hp3x1gd55zvfzstp5vvw0000gp/T/ipykernel_93933/1020862584.py:1: DeprecationWarning: the argument `columns` for `DataFrame.pivot` is deprecated. It was renamed to `on` in version 1.0.0.\n",
      "  corr_matrix = df.pivot(index=\"source_id\", columns=\"neighbor_id\", values=\"correlation\")\n"
     ]
    },
    {
     "ename": "",
     "evalue": "",
     "output_type": "error",
     "traceback": [
      "\u001b[1;31mThe Kernel crashed while executing code in the current cell or a previous cell. \n",
      "\u001b[1;31mPlease review the code in the cell(s) to identify a possible cause of the failure. \n",
      "\u001b[1;31mClick <a href='https://aka.ms/vscodeJupyterKernelCrash'>here</a> for more info. \n",
      "\u001b[1;31mView Jupyter <a href='command:jupyter.viewOutput'>log</a> for further details."
     ]
    }
   ],
   "source": [
    "corr_matrix = df.pivot(index=\"source_id\", on=\"neighbor_id\", values=\"correlation\")\n",
    "\n",
    "# Optional: fill NaNs with 0 or another placeholder\n",
    "corr_matrix_filled = corr_matrix.fillna(0)"
   ]
  },
  {
   "cell_type": "code",
   "execution_count": null,
   "id": "d2f10e73",
   "metadata": {},
   "outputs": [
    {
     "ename": "",
     "evalue": "",
     "output_type": "error",
     "traceback": [
      "\u001b[1;31mThe Kernel crashed while executing code in the current cell or a previous cell. \n",
      "\u001b[1;31mPlease review the code in the cell(s) to identify a possible cause of the failure. \n",
      "\u001b[1;31mClick <a href='https://aka.ms/vscodeJupyterKernelCrash'>here</a> for more info. \n",
      "\u001b[1;31mView Jupyter <a href='command:jupyter.viewOutput'>log</a> for further details."
     ]
    }
   ],
   "source": [
    "# df_filt = sparse.join(df, on=[\"source_id\", \"neighbor_id\"], how=\"anti\")"
   ]
  },
  {
   "cell_type": "code",
   "execution_count": 2,
   "id": "1e7816aa",
   "metadata": {},
   "outputs": [],
   "source": [
    "pf = ParquetFile(f\"{get_repo_dir()}/sparse2k_deduped.parquet\")"
   ]
  },
  {
   "cell_type": "code",
   "execution_count": 3,
   "id": "af48a2a6",
   "metadata": {},
   "outputs": [
    {
     "data": {
      "text/plain": [
       "(86, 853275758)"
      ]
     },
     "execution_count": 3,
     "metadata": {},
     "output_type": "execute_result"
    }
   ],
   "source": [
    "len(pf.row_groups),pf.count()"
   ]
  },
  {
   "cell_type": "code",
   "execution_count": 79,
   "id": "da04caf6",
   "metadata": {},
   "outputs": [
    {
     "name": "stdout",
     "output_type": "stream",
     "text": [
      "                      source_id             neighbor_id\n",
      "0           nc110639--PG.DC..EH     nc205900--PG.DC..EH\n",
      "1           nc110639--PG.DC..EH     nc205900--PG.DC..EL\n",
      "2           nc110639--PG.DC..EH   nc21451733--PG.DC..EH\n",
      "3           nc110639--PG.DC..EH   nc21451733--PG.DC..EL\n",
      "4           nc110639--PG.DC..EH   nc30067904--PG.DC..EH\n",
      "...                         ...                     ...\n",
      "1119385  nc21022578--NC.MEM..EH  nc71597920--NC.MEM..EH\n",
      "1119386  nc21022578--NC.MEM..EH  nc71597920--NC.MEM..EL\n",
      "1119387  nc21022578--NC.MEM..EH  nc71615510--NC.MEM..EH\n",
      "1119388  nc21022578--NC.MEM..EH  nc71649476--NC.MEM..EH\n",
      "1119389  nc21022578--NC.MEM..EH  nc71649476--NC.MEM..EL\n",
      "\n",
      "[1119390 rows x 2 columns]\n",
      "                      source_id             neighbor_id\n",
      "0        nc21022578--NC.MEM..EH  nc71658401--NC.MEM..EH\n",
      "1        nc21022578--NC.MEM..EH  nc71658401--NC.MEM..EL\n",
      "2        nc21022578--NC.MEM..EH  nc71685015--NC.MEM..EH\n",
      "3        nc21022578--NC.MEM..EH  nc71685015--NC.MEM..EL\n",
      "4        nc21022578--NC.MEM..EH  nc71690016--NC.MEM..EH\n",
      "...                         ...                     ...\n",
      "1119385  nc21032229--NC.MCV..EH  nc72943776--NC.MCV..EH\n",
      "1119386  nc21032229--NC.MCV..EH  nc72943881--NC.MCV..EH\n",
      "1119387  nc21032229--NC.MCV..EH  nc72944181--NC.MCV..EH\n",
      "1119388  nc21032229--NC.MCV..EH  nc72944741--NC.MCV..EH\n",
      "1119389  nc21032229--NC.MCV..EH  nc72945896--NC.MCV..EH\n",
      "\n",
      "[1119390 rows x 2 columns]\n",
      "                      source_id               neighbor_id\n",
      "0        nc21032229--NC.MCV..EH    nc72946246--NC.MCV..EH\n",
      "1        nc21032229--NC.MCV..EH    nc72946271--NC.MCV..EH\n",
      "2        nc21032229--NC.MCV..EH    nc72947021--NC.MCV..EH\n",
      "3        nc21032229--NC.MCV..EH    nc72947041--NC.MCV..EH\n",
      "4        nc21032229--NC.MCV..EH    nc72947151--NC.MCV..EH\n",
      "...                         ...                       ...\n",
      "1119385  nc21067352--NC.KIP..EH  nc73349545--NC.KIP.01.HN\n",
      "1119386  nc21067352--NC.KIP..EH  nc73475346--NC.KIP.01.EH\n",
      "1119387  nc21067352--NC.KIP..EH  nc73475346--NC.KIP.01.HN\n",
      "1119388  nc21067352--NC.KIP..EH  nc73956225--NC.KIP.01.EH\n",
      "1119389  nc21067352--NC.KIP..EH  nc73956225--NC.KIP.01.HN\n",
      "\n",
      "[1119390 rows x 2 columns]\n"
     ]
    }
   ],
   "source": [
    "for i in pf.iter_row_groups():\n",
    "    print(i)"
   ]
  },
  {
   "cell_type": "code",
   "execution_count": 3,
   "id": "89fdc659",
   "metadata": {},
   "outputs": [],
   "source": [
    "sparse = pl.read_parquet(f\"{get_repo_dir()}/sparse2k_deduped.parquet\",)"
   ]
  },
  {
   "cell_type": "code",
   "execution_count": 4,
   "id": "00139db9",
   "metadata": {},
   "outputs": [
    {
     "data": {
      "text/html": [
       "<div><style>\n",
       ".dataframe > thead > tr,\n",
       ".dataframe > tbody > tr {\n",
       "  text-align: right;\n",
       "  white-space: pre-wrap;\n",
       "}\n",
       "</style>\n",
       "<small>shape: (853_275_758, 2)</small><table border=\"1\" class=\"dataframe\"><thead><tr><th>source_id</th><th>neighbor_id</th></tr><tr><td>str</td><td>str</td></tr></thead><tbody><tr><td>&quot;nc10085297--PG.AR..EH&quot;</td><td>&quot;nc68000656--PG.AR..EH&quot;</td></tr><tr><td>&quot;nc10085297--PG.AR..EH&quot;</td><td>&quot;nc68002778--PG.AR..EH&quot;</td></tr><tr><td>&quot;nc10085297--PG.AR..EH&quot;</td><td>&quot;nc68001732--PG.AR..EL&quot;</td></tr><tr><td>&quot;nc10085297--PG.AR..EH&quot;</td><td>&quot;nc68000651--PG.AR..EH&quot;</td></tr><tr><td>&quot;nc10085297--PG.AR..EH&quot;</td><td>&quot;nc68001732--PG.AR..EH&quot;</td></tr><tr><td>&hellip;</td><td>&hellip;</td></tr><tr><td>&quot;nc73972871--BG.JKR..DP&quot;</td><td>&quot;nc73978066--BG.JKR..DP&quot;</td></tr><tr><td>&quot;nc73972871--BG.JKR..DP&quot;</td><td>&quot;nc73978061--BG.JKR..DP&quot;</td></tr><tr><td>&quot;nc73972871--BG.JKR..DP&quot;</td><td>&quot;nc73978731--BG.JKR..DP&quot;</td></tr><tr><td>&quot;nc73972871--BG.JKR..DP&quot;</td><td>&quot;nc73973826--BG.JKR..DP&quot;</td></tr><tr><td>&quot;nc73972871--BG.JKR..DP&quot;</td><td>&quot;nc73975471--BG.JKR..DP&quot;</td></tr></tbody></table></div>"
      ],
      "text/plain": [
       "shape: (853_275_758, 2)\n",
       "┌────────────────────────┬────────────────────────┐\n",
       "│ source_id              ┆ neighbor_id            │\n",
       "│ ---                    ┆ ---                    │\n",
       "│ str                    ┆ str                    │\n",
       "╞════════════════════════╪════════════════════════╡\n",
       "│ nc10085297--PG.AR..EH  ┆ nc68000656--PG.AR..EH  │\n",
       "│ nc10085297--PG.AR..EH  ┆ nc68002778--PG.AR..EH  │\n",
       "│ nc10085297--PG.AR..EH  ┆ nc68001732--PG.AR..EL  │\n",
       "│ nc10085297--PG.AR..EH  ┆ nc68000651--PG.AR..EH  │\n",
       "│ nc10085297--PG.AR..EH  ┆ nc68001732--PG.AR..EH  │\n",
       "│ …                      ┆ …                      │\n",
       "│ nc73972871--BG.JKR..DP ┆ nc73978066--BG.JKR..DP │\n",
       "│ nc73972871--BG.JKR..DP ┆ nc73978061--BG.JKR..DP │\n",
       "│ nc73972871--BG.JKR..DP ┆ nc73978731--BG.JKR..DP │\n",
       "│ nc73972871--BG.JKR..DP ┆ nc73973826--BG.JKR..DP │\n",
       "│ nc73972871--BG.JKR..DP ┆ nc73975471--BG.JKR..DP │\n",
       "└────────────────────────┴────────────────────────┘"
      ]
     },
     "execution_count": 4,
     "metadata": {},
     "output_type": "execute_result"
    }
   ],
   "source": [
    "sparse"
   ]
  },
  {
   "cell_type": "code",
   "execution_count": null,
   "id": "1ffdf517",
   "metadata": {},
   "outputs": [],
   "source": [
    "df_iter = sparse.iter_rows()"
   ]
  },
  {
   "cell_type": "code",
   "execution_count": 15,
   "id": "c18e35eb",
   "metadata": {},
   "outputs": [
    {
     "data": {
      "text/plain": [
       "'nc10087775--PG.PS..EH'"
      ]
     },
     "execution_count": 15,
     "metadata": {},
     "output_type": "execute_result"
    }
   ],
   "source": [
    "from itertools import islice\n",
    "batch_size = 10\n",
    "# list(islice(df_iter, batch_size)),\n",
    "aa = list(islice(df_iter, batch_size))\n",
    "\n",
    "aa[0][0]"
   ]
  },
  {
   "cell_type": "code",
   "execution_count": 6,
   "id": "8e422fd3",
   "metadata": {},
   "outputs": [
    {
     "ename": "",
     "evalue": "",
     "output_type": "error",
     "traceback": [
      "\u001b[1;31mThe Kernel crashed while executing code in the current cell or a previous cell. \n",
      "\u001b[1;31mPlease review the code in the cell(s) to identify a possible cause of the failure. \n",
      "\u001b[1;31mClick <a href='https://aka.ms/vscodeJupyterKernelCrash'>here</a> for more info. \n",
      "\u001b[1;31mView Jupyter <a href='command:jupyter.viewOutput'>log</a> for further details."
     ]
    }
   ],
   "source": [
    "def remove_duplicated_reverse_pairs(df):\n",
    "    # Normalize each pair to ensure (A, B) and (B, A) are treated as equal\n",
    "    normalized_df = df.select([\n",
    "        pl.when(pl.col(\"source_id\") < pl.col(\"neighbor_id\"))\n",
    "        .then(pl.col(\"source_id\"))\n",
    "        .otherwise(pl.col(\"neighbor_id\"))\n",
    "        .alias(\"id1\"),\n",
    "\n",
    "        pl.when(pl.col(\"source_id\") < pl.col(\"neighbor_id\"))\n",
    "        .then(pl.col(\"neighbor_id\"))\n",
    "        .otherwise(pl.col(\"source_id\"))\n",
    "        .alias(\"id2\")\n",
    "    ])\n",
    "\n",
    "    # Drop duplicates on the normalized columns\n",
    "    unique_pairs = normalized_df.unique()\n",
    "\n",
    "    # Rename back to your original column names\n",
    "    final_df = unique_pairs.rename({\n",
    "        \"id1\": \"source_id\",\n",
    "        \"id2\": \"neighbor_id\"\n",
    "    })\n",
    "\n",
    "    return final_df\n",
    "\n",
    "df = remove_duplicated_reverse_pairs(sparse)"
   ]
  },
  {
   "cell_type": "code",
   "execution_count": 2,
   "id": "c34bc39b",
   "metadata": {},
   "outputs": [
    {
     "ename": "",
     "evalue": "",
     "output_type": "error",
     "traceback": [
      "\u001b[1;31mThe Kernel crashed while executing code in the current cell or a previous cell. \n",
      "\u001b[1;31mPlease review the code in the cell(s) to identify a possible cause of the failure. \n",
      "\u001b[1;31mClick <a href='https://aka.ms/vscodeJupyterKernelCrash'>here</a> for more info. \n",
      "\u001b[1;31mView Jupyter <a href='command:jupyter.viewOutput'>log</a> for further details."
     ]
    }
   ],
   "source": [
    "def remove_duplicated_reverse_pairs_lazy(path):\n",
    "    lf = pl.scan_parquet(path)\n",
    "\n",
    "    normalized = lf.select([\n",
    "        pl.when(pl.col(\"source_id\") < pl.col(\"neighbor_id\"))\n",
    "          .then(pl.col(\"source_id\")).otherwise(pl.col(\"neighbor_id\")).alias(\"id1\"),\n",
    "\n",
    "        pl.when(pl.col(\"source_id\") < pl.col(\"neighbor_id\"))\n",
    "          .then(pl.col(\"neighbor_id\")).otherwise(pl.col(\"source_id\")).alias(\"id2\")\n",
    "    ])\n",
    "\n",
    "    return (\n",
    "        normalized\n",
    "        .unique()\n",
    "        .rename({\"id1\": \"source_id\", \"id2\": \"neighbor_id\"})\n",
    "        .collect()\n",
    "    )\n",
    "\n",
    "sparse = remove_duplicated_reverse_pairs_lazy(f\"{get_repo_dir()}/sparse2k.parquet copy\")"
   ]
  },
  {
   "cell_type": "code",
   "execution_count": 13,
   "id": "3b5b72eb",
   "metadata": {},
   "outputs": [
    {
     "data": {
      "text/html": [
       "<div><style>\n",
       ".dataframe > thead > tr,\n",
       ".dataframe > tbody > tr {\n",
       "  text-align: right;\n",
       "  white-space: pre-wrap;\n",
       "}\n",
       "</style>\n",
       "<small>shape: (817_630_617, 2)</small><table border=\"1\" class=\"dataframe\"><thead><tr><th>source_id</th><th>neighbor_id</th></tr><tr><td>str</td><td>str</td></tr></thead><tbody><tr><td>&quot;nc10089105--PG.LM..EH&quot;</td><td>&quot;nc68000059--PG.LM..EH&quot;</td></tr><tr><td>&quot;nc10089105--PG.LM..EH&quot;</td><td>&quot;nc68000059--PG.LM..EL&quot;</td></tr><tr><td>&quot;nc10089105--PG.LM..EH&quot;</td><td>&quot;nc68008775--PG.LM..EH&quot;</td></tr><tr><td>&quot;nc10089105--PG.LM..EH&quot;</td><td>&quot;nc68008938--PG.LM..EH&quot;</td></tr><tr><td>&quot;nc10089105--PG.LM..EH&quot;</td><td>&quot;nc68014741--PG.LM..EH&quot;</td></tr><tr><td>&hellip;</td><td>&hellip;</td></tr><tr><td>&quot;nc73365035--BK.SAO.00.HH&quot;</td><td>&quot;nc73946980--BK.SAO.00.HH&quot;</td></tr><tr><td>&quot;nc73365035--BK.SAO.00.HH&quot;</td><td>&quot;nc73947150--BK.SAO.00.HN&quot;</td></tr><tr><td>&quot;nc73365035--NC.BJOB..EH&quot;</td><td>&quot;nc73231836--NC.BJOB..EH&quot;</td></tr><tr><td>&quot;nc73365035--NC.BJOB..EH&quot;</td><td>&quot;nc73293050--NC.BJOB..EH&quot;</td></tr><tr><td>&quot;nc73365035--NC.BJOB..EH&quot;</td><td>&quot;nc73357835--NC.BJOB..EH&quot;</td></tr></tbody></table></div>"
      ],
      "text/plain": [
       "shape: (817_630_617, 2)\n",
       "┌──────────────────────────┬──────────────────────────┐\n",
       "│ source_id                ┆ neighbor_id              │\n",
       "│ ---                      ┆ ---                      │\n",
       "│ str                      ┆ str                      │\n",
       "╞══════════════════════════╪══════════════════════════╡\n",
       "│ nc10089105--PG.LM..EH    ┆ nc68000059--PG.LM..EH    │\n",
       "│ nc10089105--PG.LM..EH    ┆ nc68000059--PG.LM..EL    │\n",
       "│ nc10089105--PG.LM..EH    ┆ nc68008775--PG.LM..EH    │\n",
       "│ nc10089105--PG.LM..EH    ┆ nc68008938--PG.LM..EH    │\n",
       "│ nc10089105--PG.LM..EH    ┆ nc68014741--PG.LM..EH    │\n",
       "│ …                        ┆ …                        │\n",
       "│ nc73365035--BK.SAO.00.HH ┆ nc73946980--BK.SAO.00.HH │\n",
       "│ nc73365035--BK.SAO.00.HH ┆ nc73947150--BK.SAO.00.HN │\n",
       "│ nc73365035--NC.BJOB..EH  ┆ nc73231836--NC.BJOB..EH  │\n",
       "│ nc73365035--NC.BJOB..EH  ┆ nc73293050--NC.BJOB..EH  │\n",
       "│ nc73365035--NC.BJOB..EH  ┆ nc73357835--NC.BJOB..EH  │\n",
       "└──────────────────────────┴──────────────────────────┘"
      ]
     },
     "execution_count": 13,
     "metadata": {},
     "output_type": "execute_result"
    }
   ],
   "source": [
    "sparse"
   ]
  },
  {
   "cell_type": "code",
   "execution_count": 1,
   "id": "83ff01b2",
   "metadata": {},
   "outputs": [],
   "source": [
    "import duckdb\n",
    "import polars as pl\n",
    "\n",
    "from seisnet.utils import get_repo_dir\n",
    "\n",
    "con = duckdb.connect()\n",
    "\n",
    "datapath = f\"{get_repo_dir()}/sparse2k.parquet\"\n",
    "outpath = f\"{get_repo_dir()}/sparse2k_deduped.parquet\"\n",
    "query = f\"\"\"\n",
    "COPY (\n",
    "    SELECT DISTINCT\n",
    "        LEAST(source_id, neighbor_id) AS source_id,\n",
    "        GREATEST(source_id, neighbor_id) AS neighbor_id\n",
    "    FROM '{datapath}'\n",
    "    ORDER BY source_id\n",
    ")\n",
    "TO '{outpath}'\n",
    "(FORMAT parquet, COMPRESSION zstd, ROW_GROUP_SIZE 10_000_000);\n",
    "\"\"\"\n",
    "\n",
    "arrow_table = con.execute(query)\n"
   ]
  },
  {
   "cell_type": "code",
   "execution_count": 6,
   "id": "e82f25cf",
   "metadata": {},
   "outputs": [
    {
     "data": {
      "text/html": [
       "<div><style>\n",
       ".dataframe > thead > tr,\n",
       ".dataframe > tbody > tr {\n",
       "  text-align: right;\n",
       "  white-space: pre-wrap;\n",
       "}\n",
       "</style>\n",
       "<small>shape: (853_275_758, 2)</small><table border=\"1\" class=\"dataframe\"><thead><tr><th>source_id</th><th>neighbor_id</th></tr><tr><td>str</td><td>str</td></tr></thead><tbody><tr><td>&quot;nc21174043--NC.GDX..EH&quot;</td><td>&quot;nc72766241--NC.GDXB..HH&quot;</td></tr><tr><td>&quot;nc21174043--NC.GDX..EH&quot;</td><td>&quot;nc72800981--NC.GDXB..HH&quot;</td></tr><tr><td>&quot;nc21174043--NC.GDX..EH&quot;</td><td>&quot;nc72831961--NC.GDXB..HH&quot;</td></tr><tr><td>&quot;nc21174043--NC.GDX..EH&quot;</td><td>&quot;nc72856446--NC.GDXB..HH&quot;</td></tr><tr><td>&quot;nc21174043--NC.GDX..EH&quot;</td><td>&quot;nc72871800--BG.FUM..DP&quot;</td></tr><tr><td>&hellip;</td><td>&hellip;</td></tr><tr><td>&quot;nc73395356--BG.SB4..DP&quot;</td><td>&quot;nc73972866--BG.SB4..DP&quot;</td></tr><tr><td>&quot;nc73509790--BG.BUC..DP&quot;</td><td>&quot;nc73972866--BG.SB4..DP&quot;</td></tr><tr><td>&quot;nc73760091--BG.US3..DP&quot;</td><td>&quot;nc73972866--BG.SB4..DP&quot;</td></tr><tr><td>&quot;nc73837771--BG.US3..DP&quot;</td><td>&quot;nc73972866--BG.SB4..DP&quot;</td></tr><tr><td>&quot;nc73933491--BG.SB4..DP&quot;</td><td>&quot;nc73972866--BG.SB4..DP&quot;</td></tr></tbody></table></div>"
      ],
      "text/plain": [
       "shape: (853_275_758, 2)\n",
       "┌────────────────────────┬─────────────────────────┐\n",
       "│ source_id              ┆ neighbor_id             │\n",
       "│ ---                    ┆ ---                     │\n",
       "│ str                    ┆ str                     │\n",
       "╞════════════════════════╪═════════════════════════╡\n",
       "│ nc21174043--NC.GDX..EH ┆ nc72766241--NC.GDXB..HH │\n",
       "│ nc21174043--NC.GDX..EH ┆ nc72800981--NC.GDXB..HH │\n",
       "│ nc21174043--NC.GDX..EH ┆ nc72831961--NC.GDXB..HH │\n",
       "│ nc21174043--NC.GDX..EH ┆ nc72856446--NC.GDXB..HH │\n",
       "│ nc21174043--NC.GDX..EH ┆ nc72871800--BG.FUM..DP  │\n",
       "│ …                      ┆ …                       │\n",
       "│ nc73395356--BG.SB4..DP ┆ nc73972866--BG.SB4..DP  │\n",
       "│ nc73509790--BG.BUC..DP ┆ nc73972866--BG.SB4..DP  │\n",
       "│ nc73760091--BG.US3..DP ┆ nc73972866--BG.SB4..DP  │\n",
       "│ nc73837771--BG.US3..DP ┆ nc73972866--BG.SB4..DP  │\n",
       "│ nc73933491--BG.SB4..DP ┆ nc73972866--BG.SB4..DP  │\n",
       "└────────────────────────┴─────────────────────────┘"
      ]
     },
     "execution_count": 6,
     "metadata": {},
     "output_type": "execute_result"
    }
   ],
   "source": [
    "df_polars"
   ]
  },
  {
   "cell_type": "code",
   "execution_count": null,
   "id": "d7d0b89b",
   "metadata": {},
   "outputs": [],
   "source": []
  }
 ],
 "metadata": {
  "kernelspec": {
   "display_name": ".venv",
   "language": "python",
   "name": "python3"
  },
  "language_info": {
   "codemirror_mode": {
    "name": "ipython",
    "version": 3
   },
   "file_extension": ".py",
   "mimetype": "text/x-python",
   "name": "python",
   "nbconvert_exporter": "python",
   "pygments_lexer": "ipython3",
   "version": "3.13.1"
  }
 },
 "nbformat": 4,
 "nbformat_minor": 5
}
